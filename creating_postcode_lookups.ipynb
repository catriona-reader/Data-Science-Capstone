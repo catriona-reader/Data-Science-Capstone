{
 "cells": [
  {
   "cell_type": "code",
   "execution_count": 1,
   "metadata": {},
   "outputs": [],
   "source": [
    "import pandas as pd\n",
    "import numpy as np"
   ]
  },
  {
   "cell_type": "code",
   "execution_count": 2,
   "metadata": {},
   "outputs": [],
   "source": [
    "path = 'datasets/postcode_lookups.csv'"
   ]
  },
  {
   "cell_type": "code",
   "execution_count": 3,
   "metadata": {},
   "outputs": [
    {
     "name": "stderr",
     "output_type": "stream",
     "text": [
      "/anaconda3/lib/python3.6/site-packages/IPython/core/interactiveshell.py:3020: DtypeWarning: Columns (13) have mixed types. Specify dtype option on import or set low_memory=False.\n",
      "  interactivity=interactivity, compiler=compiler, result=result)\n"
     ]
    }
   ],
   "source": [
    "df = pd.read_csv(path)"
   ]
  },
  {
   "cell_type": "code",
   "execution_count": 4,
   "metadata": {},
   "outputs": [
    {
     "data": {
      "text/html": [
       "<div>\n",
       "<style scoped>\n",
       "    .dataframe tbody tr th:only-of-type {\n",
       "        vertical-align: middle;\n",
       "    }\n",
       "\n",
       "    .dataframe tbody tr th {\n",
       "        vertical-align: top;\n",
       "    }\n",
       "\n",
       "    .dataframe thead th {\n",
       "        text-align: right;\n",
       "    }\n",
       "</style>\n",
       "<table border=\"1\" class=\"dataframe\">\n",
       "  <thead>\n",
       "    <tr style=\"text-align: right;\">\n",
       "      <th></th>\n",
       "      <th>pcd7</th>\n",
       "      <th>pcd8</th>\n",
       "      <th>pcds</th>\n",
       "      <th>dointr</th>\n",
       "      <th>doterm</th>\n",
       "      <th>usertype</th>\n",
       "      <th>oa11</th>\n",
       "      <th>lsoa11cd</th>\n",
       "      <th>msoa11cd</th>\n",
       "      <th>ladcd</th>\n",
       "      <th>lsoa11nm</th>\n",
       "      <th>msoa11nm</th>\n",
       "      <th>ladnm</th>\n",
       "      <th>ladnmw</th>\n",
       "      <th>FID</th>\n",
       "    </tr>\n",
       "  </thead>\n",
       "  <tbody>\n",
       "    <tr>\n",
       "      <th>0</th>\n",
       "      <td>AB1 1EZ</td>\n",
       "      <td>AB1  1EZ</td>\n",
       "      <td>AB1 1EZ</td>\n",
       "      <td>198001</td>\n",
       "      <td>199606</td>\n",
       "      <td>0</td>\n",
       "      <td>S00090528</td>\n",
       "      <td>S01006645</td>\n",
       "      <td>S02001261</td>\n",
       "      <td>S12000033</td>\n",
       "      <td>George Street - 01</td>\n",
       "      <td>George Street</td>\n",
       "      <td>Aberdeen City</td>\n",
       "      <td>NaN</td>\n",
       "      <td>1</td>\n",
       "    </tr>\n",
       "    <tr>\n",
       "      <th>1</th>\n",
       "      <td>AB1 0AA</td>\n",
       "      <td>AB1  0AA</td>\n",
       "      <td>AB1 0AA</td>\n",
       "      <td>198001</td>\n",
       "      <td>199606</td>\n",
       "      <td>0</td>\n",
       "      <td>S00090303</td>\n",
       "      <td>S01006514</td>\n",
       "      <td>S02001237</td>\n",
       "      <td>S12000033</td>\n",
       "      <td>Cults, Bieldside and Milltimber West - 02</td>\n",
       "      <td>Cults, Bieldside and Milltimber West</td>\n",
       "      <td>Aberdeen City</td>\n",
       "      <td>NaN</td>\n",
       "      <td>2</td>\n",
       "    </tr>\n",
       "    <tr>\n",
       "      <th>2</th>\n",
       "      <td>AB1 0RE</td>\n",
       "      <td>AB1  0RE</td>\n",
       "      <td>AB1 0RE</td>\n",
       "      <td>198001</td>\n",
       "      <td>199606</td>\n",
       "      <td>0</td>\n",
       "      <td>S00090294</td>\n",
       "      <td>S01006507</td>\n",
       "      <td>S02001236</td>\n",
       "      <td>S12000033</td>\n",
       "      <td>Culter - 02</td>\n",
       "      <td>Culter</td>\n",
       "      <td>Aberdeen City</td>\n",
       "      <td>NaN</td>\n",
       "      <td>3</td>\n",
       "    </tr>\n",
       "    <tr>\n",
       "      <th>3</th>\n",
       "      <td>AB1 1FA</td>\n",
       "      <td>AB1  1FA</td>\n",
       "      <td>AB1 1FA</td>\n",
       "      <td>198001</td>\n",
       "      <td>199606</td>\n",
       "      <td>0</td>\n",
       "      <td>S00090532</td>\n",
       "      <td>S01006645</td>\n",
       "      <td>S02001261</td>\n",
       "      <td>S12000033</td>\n",
       "      <td>George Street - 01</td>\n",
       "      <td>George Street</td>\n",
       "      <td>Aberdeen City</td>\n",
       "      <td>NaN</td>\n",
       "      <td>4</td>\n",
       "    </tr>\n",
       "    <tr>\n",
       "      <th>4</th>\n",
       "      <td>AB1 0RF</td>\n",
       "      <td>AB1  0RF</td>\n",
       "      <td>AB1 0RF</td>\n",
       "      <td>199210</td>\n",
       "      <td>199606</td>\n",
       "      <td>0</td>\n",
       "      <td>S00090296</td>\n",
       "      <td>S01006507</td>\n",
       "      <td>S02001236</td>\n",
       "      <td>S12000033</td>\n",
       "      <td>Culter - 02</td>\n",
       "      <td>Culter</td>\n",
       "      <td>Aberdeen City</td>\n",
       "      <td>NaN</td>\n",
       "      <td>5</td>\n",
       "    </tr>\n",
       "  </tbody>\n",
       "</table>\n",
       "</div>"
      ],
      "text/plain": [
       "      pcd7      pcd8     pcds  dointr  doterm  usertype       oa11   lsoa11cd  \\\n",
       "0  AB1 1EZ  AB1  1EZ  AB1 1EZ  198001  199606         0  S00090528  S01006645   \n",
       "1  AB1 0AA  AB1  0AA  AB1 0AA  198001  199606         0  S00090303  S01006514   \n",
       "2  AB1 0RE  AB1  0RE  AB1 0RE  198001  199606         0  S00090294  S01006507   \n",
       "3  AB1 1FA  AB1  1FA  AB1 1FA  198001  199606         0  S00090532  S01006645   \n",
       "4  AB1 0RF  AB1  0RF  AB1 0RF  199210  199606         0  S00090296  S01006507   \n",
       "\n",
       "    msoa11cd      ladcd                                   lsoa11nm  \\\n",
       "0  S02001261  S12000033                         George Street - 01   \n",
       "1  S02001237  S12000033  Cults, Bieldside and Milltimber West - 02   \n",
       "2  S02001236  S12000033                                Culter - 02   \n",
       "3  S02001261  S12000033                         George Street - 01   \n",
       "4  S02001236  S12000033                                Culter - 02   \n",
       "\n",
       "                               msoa11nm          ladnm ladnmw  FID  \n",
       "0                         George Street  Aberdeen City    NaN    1  \n",
       "1  Cults, Bieldside and Milltimber West  Aberdeen City    NaN    2  \n",
       "2                                Culter  Aberdeen City    NaN    3  \n",
       "3                         George Street  Aberdeen City    NaN    4  \n",
       "4                                Culter  Aberdeen City    NaN    5  "
      ]
     },
     "execution_count": 4,
     "metadata": {},
     "output_type": "execute_result"
    }
   ],
   "source": [
    "df.head()"
   ]
  },
  {
   "cell_type": "code",
   "execution_count": 5,
   "metadata": {},
   "outputs": [
    {
     "data": {
      "text/plain": [
       "Index(['pcd7', 'pcd8', 'pcds', 'dointr', 'doterm', 'usertype', 'oa11',\n",
       "       'lsoa11cd', 'msoa11cd', 'ladcd', 'lsoa11nm', 'msoa11nm', 'ladnm',\n",
       "       'ladnmw', 'FID'],\n",
       "      dtype='object')"
      ]
     },
     "execution_count": 5,
     "metadata": {},
     "output_type": "execute_result"
    }
   ],
   "source": [
    "df.columns"
   ]
  },
  {
   "cell_type": "code",
   "execution_count": 6,
   "metadata": {},
   "outputs": [],
   "source": [
    "cols_to_drop = ['pcd7', 'pcd8','dointr', 'doterm', 'usertype', 'oa11',\n",
    "       'lsoa11cd','lsoa11nm','ladnmw', 'FID']"
   ]
  },
  {
   "cell_type": "code",
   "execution_count": 7,
   "metadata": {},
   "outputs": [],
   "source": [
    "df.drop(columns=cols_to_drop, inplace=True)"
   ]
  },
  {
   "cell_type": "code",
   "execution_count": 8,
   "metadata": {},
   "outputs": [
    {
     "data": {
      "text/plain": [
       "(2599368, 5)"
      ]
     },
     "execution_count": 8,
     "metadata": {},
     "output_type": "execute_result"
    }
   ],
   "source": [
    "df.shape"
   ]
  },
  {
   "cell_type": "code",
   "execution_count": 9,
   "metadata": {},
   "outputs": [
    {
     "data": {
      "text/html": [
       "<div>\n",
       "<style scoped>\n",
       "    .dataframe tbody tr th:only-of-type {\n",
       "        vertical-align: middle;\n",
       "    }\n",
       "\n",
       "    .dataframe tbody tr th {\n",
       "        vertical-align: top;\n",
       "    }\n",
       "\n",
       "    .dataframe thead th {\n",
       "        text-align: right;\n",
       "    }\n",
       "</style>\n",
       "<table border=\"1\" class=\"dataframe\">\n",
       "  <thead>\n",
       "    <tr style=\"text-align: right;\">\n",
       "      <th></th>\n",
       "      <th>pcds</th>\n",
       "      <th>msoa11cd</th>\n",
       "      <th>ladcd</th>\n",
       "      <th>msoa11nm</th>\n",
       "      <th>ladnm</th>\n",
       "    </tr>\n",
       "  </thead>\n",
       "  <tbody>\n",
       "    <tr>\n",
       "      <th>2218771</th>\n",
       "      <td>SW18 3WA</td>\n",
       "      <td>E02000941</td>\n",
       "      <td>E09000032</td>\n",
       "      <td>Wandsworth 019</td>\n",
       "      <td>Wandsworth</td>\n",
       "    </tr>\n",
       "    <tr>\n",
       "      <th>1215093</th>\n",
       "      <td>LE1 1RS</td>\n",
       "      <td>E02006851</td>\n",
       "      <td>E06000016</td>\n",
       "      <td>Leicester 041</td>\n",
       "      <td>Leicester</td>\n",
       "    </tr>\n",
       "    <tr>\n",
       "      <th>214927</th>\n",
       "      <td>BN1 9PH</td>\n",
       "      <td>E02003492</td>\n",
       "      <td>E06000043</td>\n",
       "      <td>Brighton and Hove 002</td>\n",
       "      <td>Brighton and Hove</td>\n",
       "    </tr>\n",
       "    <tr>\n",
       "      <th>13657</th>\n",
       "      <td>AB21 9PD</td>\n",
       "      <td>S02001276</td>\n",
       "      <td>S12000033</td>\n",
       "      <td>Bucksburn South</td>\n",
       "      <td>Aberdeen City</td>\n",
       "    </tr>\n",
       "    <tr>\n",
       "      <th>72985</th>\n",
       "      <td>B4 7DH</td>\n",
       "      <td>E02001876</td>\n",
       "      <td>E08000025</td>\n",
       "      <td>Birmingham 050</td>\n",
       "      <td>Birmingham</td>\n",
       "    </tr>\n",
       "    <tr>\n",
       "      <th>2583967</th>\n",
       "      <td>YO62 6EY</td>\n",
       "      <td>E02005788</td>\n",
       "      <td>E07000167</td>\n",
       "      <td>Ryedale 001</td>\n",
       "      <td>Ryedale</td>\n",
       "    </tr>\n",
       "    <tr>\n",
       "      <th>566509</th>\n",
       "      <td>CW5 7FF</td>\n",
       "      <td>E02003836</td>\n",
       "      <td>E06000049</td>\n",
       "      <td>Cheshire East 047</td>\n",
       "      <td>Cheshire East</td>\n",
       "    </tr>\n",
       "    <tr>\n",
       "      <th>53394</th>\n",
       "      <td>B11 3LB</td>\n",
       "      <td>E02006901</td>\n",
       "      <td>E08000025</td>\n",
       "      <td>Birmingham 140</td>\n",
       "      <td>Birmingham</td>\n",
       "    </tr>\n",
       "    <tr>\n",
       "      <th>1407584</th>\n",
       "      <td>ME17 1XA</td>\n",
       "      <td>E02005078</td>\n",
       "      <td>E07000110</td>\n",
       "      <td>Maidstone 011</td>\n",
       "      <td>Maidstone</td>\n",
       "    </tr>\n",
       "    <tr>\n",
       "      <th>2242006</th>\n",
       "      <td>SY1 2LG</td>\n",
       "      <td>E02006031</td>\n",
       "      <td>E06000051</td>\n",
       "      <td>Shropshire 017</td>\n",
       "      <td>Shropshire</td>\n",
       "    </tr>\n",
       "  </tbody>\n",
       "</table>\n",
       "</div>"
      ],
      "text/plain": [
       "             pcds   msoa11cd      ladcd               msoa11nm  \\\n",
       "2218771  SW18 3WA  E02000941  E09000032         Wandsworth 019   \n",
       "1215093   LE1 1RS  E02006851  E06000016          Leicester 041   \n",
       "214927    BN1 9PH  E02003492  E06000043  Brighton and Hove 002   \n",
       "13657    AB21 9PD  S02001276  S12000033        Bucksburn South   \n",
       "72985      B4 7DH  E02001876  E08000025         Birmingham 050   \n",
       "2583967  YO62 6EY  E02005788  E07000167            Ryedale 001   \n",
       "566509    CW5 7FF  E02003836  E06000049      Cheshire East 047   \n",
       "53394     B11 3LB  E02006901  E08000025         Birmingham 140   \n",
       "1407584  ME17 1XA  E02005078  E07000110          Maidstone 011   \n",
       "2242006   SY1 2LG  E02006031  E06000051         Shropshire 017   \n",
       "\n",
       "                     ladnm  \n",
       "2218771         Wandsworth  \n",
       "1215093          Leicester  \n",
       "214927   Brighton and Hove  \n",
       "13657        Aberdeen City  \n",
       "72985           Birmingham  \n",
       "2583967            Ryedale  \n",
       "566509       Cheshire East  \n",
       "53394           Birmingham  \n",
       "1407584          Maidstone  \n",
       "2242006         Shropshire  "
      ]
     },
     "execution_count": 9,
     "metadata": {},
     "output_type": "execute_result"
    }
   ],
   "source": [
    "df.sample(10)"
   ]
  },
  {
   "cell_type": "code",
   "execution_count": 10,
   "metadata": {},
   "outputs": [
    {
     "data": {
      "text/plain": [
       "2599368"
      ]
     },
     "execution_count": 10,
     "metadata": {},
     "output_type": "execute_result"
    }
   ],
   "source": [
    "df.pcds.nunique()"
   ]
  },
  {
   "cell_type": "code",
   "execution_count": 11,
   "metadata": {},
   "outputs": [
    {
     "name": "stdout",
     "output_type": "stream",
     "text": [
      "222185\n",
      "2167873\n",
      "137623\n",
      "58788\n"
     ]
    }
   ],
   "source": [
    "print(df.msoa11cd.str.contains('S').sum()) #scotland\n",
    "print(df.msoa11cd.str.contains('E').sum()) #england\n",
    "print(df.msoa11cd.str.contains('W').sum()) #wales\n",
    "print(df.msoa11cd.str.contains('N').sum()) #northern ireland"
   ]
  },
  {
   "cell_type": "code",
   "execution_count": 12,
   "metadata": {},
   "outputs": [],
   "source": [
    "mask_ew = df.msoa11cd.str.contains('E|W') #I only want to keep english + welsh postcodes"
   ]
  },
  {
   "cell_type": "code",
   "execution_count": 13,
   "metadata": {},
   "outputs": [],
   "source": [
    "df_ew = df[mask_ew]"
   ]
  },
  {
   "cell_type": "code",
   "execution_count": 14,
   "metadata": {},
   "outputs": [
    {
     "data": {
      "text/html": [
       "<div>\n",
       "<style scoped>\n",
       "    .dataframe tbody tr th:only-of-type {\n",
       "        vertical-align: middle;\n",
       "    }\n",
       "\n",
       "    .dataframe tbody tr th {\n",
       "        vertical-align: top;\n",
       "    }\n",
       "\n",
       "    .dataframe thead th {\n",
       "        text-align: right;\n",
       "    }\n",
       "</style>\n",
       "<table border=\"1\" class=\"dataframe\">\n",
       "  <thead>\n",
       "    <tr style=\"text-align: right;\">\n",
       "      <th></th>\n",
       "      <th>pcds</th>\n",
       "      <th>msoa11cd</th>\n",
       "      <th>ladcd</th>\n",
       "      <th>msoa11nm</th>\n",
       "      <th>ladnm</th>\n",
       "    </tr>\n",
       "  </thead>\n",
       "  <tbody>\n",
       "    <tr>\n",
       "      <th>33400</th>\n",
       "      <td>AL1 1EZ</td>\n",
       "      <td>E02004935</td>\n",
       "      <td>E07000240</td>\n",
       "      <td>St Albans 012</td>\n",
       "      <td>St Albans</td>\n",
       "    </tr>\n",
       "    <tr>\n",
       "      <th>33401</th>\n",
       "      <td>AL1 1AP</td>\n",
       "      <td>E02004940</td>\n",
       "      <td>E07000240</td>\n",
       "      <td>St Albans 017</td>\n",
       "      <td>St Albans</td>\n",
       "    </tr>\n",
       "    <tr>\n",
       "      <th>33402</th>\n",
       "      <td>AL1 1FH</td>\n",
       "      <td>E02004936</td>\n",
       "      <td>E07000240</td>\n",
       "      <td>St Albans 013</td>\n",
       "      <td>St Albans</td>\n",
       "    </tr>\n",
       "    <tr>\n",
       "      <th>33403</th>\n",
       "      <td>AL1 1AQ</td>\n",
       "      <td>E02004940</td>\n",
       "      <td>E07000240</td>\n",
       "      <td>St Albans 017</td>\n",
       "      <td>St Albans</td>\n",
       "    </tr>\n",
       "    <tr>\n",
       "      <th>33404</th>\n",
       "      <td>AL1 1FP</td>\n",
       "      <td>E02004937</td>\n",
       "      <td>E07000240</td>\n",
       "      <td>St Albans 014</td>\n",
       "      <td>St Albans</td>\n",
       "    </tr>\n",
       "  </tbody>\n",
       "</table>\n",
       "</div>"
      ],
      "text/plain": [
       "          pcds   msoa11cd      ladcd       msoa11nm      ladnm\n",
       "33400  AL1 1EZ  E02004935  E07000240  St Albans 012  St Albans\n",
       "33401  AL1 1AP  E02004940  E07000240  St Albans 017  St Albans\n",
       "33402  AL1 1FH  E02004936  E07000240  St Albans 013  St Albans\n",
       "33403  AL1 1AQ  E02004940  E07000240  St Albans 017  St Albans\n",
       "33404  AL1 1FP  E02004937  E07000240  St Albans 014  St Albans"
      ]
     },
     "execution_count": 14,
     "metadata": {},
     "output_type": "execute_result"
    }
   ],
   "source": [
    "df_ew.head()"
   ]
  },
  {
   "cell_type": "code",
   "execution_count": 15,
   "metadata": {},
   "outputs": [],
   "source": [
    "df_ew.columns = ['postcode', 'msoa_code', 'la_code', 'msoa', 'la']"
   ]
  },
  {
   "cell_type": "code",
   "execution_count": 16,
   "metadata": {},
   "outputs": [
    {
     "data": {
      "text/html": [
       "<div>\n",
       "<style scoped>\n",
       "    .dataframe tbody tr th:only-of-type {\n",
       "        vertical-align: middle;\n",
       "    }\n",
       "\n",
       "    .dataframe tbody tr th {\n",
       "        vertical-align: top;\n",
       "    }\n",
       "\n",
       "    .dataframe thead th {\n",
       "        text-align: right;\n",
       "    }\n",
       "</style>\n",
       "<table border=\"1\" class=\"dataframe\">\n",
       "  <thead>\n",
       "    <tr style=\"text-align: right;\">\n",
       "      <th></th>\n",
       "      <th>postcode</th>\n",
       "      <th>msoa_code</th>\n",
       "      <th>la_code</th>\n",
       "      <th>msoa</th>\n",
       "      <th>la</th>\n",
       "    </tr>\n",
       "  </thead>\n",
       "  <tbody>\n",
       "    <tr>\n",
       "      <th>33400</th>\n",
       "      <td>AL1 1EZ</td>\n",
       "      <td>E02004935</td>\n",
       "      <td>E07000240</td>\n",
       "      <td>St Albans 012</td>\n",
       "      <td>St Albans</td>\n",
       "    </tr>\n",
       "    <tr>\n",
       "      <th>33401</th>\n",
       "      <td>AL1 1AP</td>\n",
       "      <td>E02004940</td>\n",
       "      <td>E07000240</td>\n",
       "      <td>St Albans 017</td>\n",
       "      <td>St Albans</td>\n",
       "    </tr>\n",
       "  </tbody>\n",
       "</table>\n",
       "</div>"
      ],
      "text/plain": [
       "      postcode  msoa_code    la_code           msoa         la\n",
       "33400  AL1 1EZ  E02004935  E07000240  St Albans 012  St Albans\n",
       "33401  AL1 1AP  E02004940  E07000240  St Albans 017  St Albans"
      ]
     },
     "execution_count": 16,
     "metadata": {},
     "output_type": "execute_result"
    }
   ],
   "source": [
    "df_ew.head(2)"
   ]
  },
  {
   "cell_type": "code",
   "execution_count": 17,
   "metadata": {},
   "outputs": [],
   "source": [
    "def return_msoa(pc): \n",
    "    pc_mask = (df_ew.postcode == pc)\n",
    "    return df_ew[pc_mask].msoa"
   ]
  },
  {
   "cell_type": "code",
   "execution_count": 18,
   "metadata": {},
   "outputs": [
    {
     "data": {
      "text/plain": [
       "33400    St Albans 012\n",
       "Name: msoa, dtype: object"
      ]
     },
     "execution_count": 18,
     "metadata": {},
     "output_type": "execute_result"
    }
   ],
   "source": [
    "return_msoa('AL1 1EZ')"
   ]
  },
  {
   "cell_type": "code",
   "execution_count": 19,
   "metadata": {},
   "outputs": [],
   "source": [
    "df_ew.to_csv(r'datasets/clean_data/postcode_lookups.csv', index = None, header=True)"
   ]
  }
 ],
 "metadata": {
  "kernelspec": {
   "display_name": "Python 3",
   "language": "python",
   "name": "python3"
  },
  "language_info": {
   "codemirror_mode": {
    "name": "ipython",
    "version": 3
   },
   "file_extension": ".py",
   "mimetype": "text/x-python",
   "name": "python",
   "nbconvert_exporter": "python",
   "pygments_lexer": "ipython3",
   "version": "3.6.8"
  }
 },
 "nbformat": 4,
 "nbformat_minor": 2
}

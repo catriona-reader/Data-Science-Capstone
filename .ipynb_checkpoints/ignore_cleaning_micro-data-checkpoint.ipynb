{
 "cells": [
  {
   "cell_type": "code",
   "execution_count": 46,
   "metadata": {},
   "outputs": [],
   "source": [
    "import pandas as pd\n",
    "import numpy as np"
   ]
  },
  {
   "cell_type": "code",
   "execution_count": 47,
   "metadata": {},
   "outputs": [],
   "source": [
    "path = 'micro-data/csv/recodev12.csv'"
   ]
  },
  {
   "cell_type": "code",
   "execution_count": 48,
   "metadata": {},
   "outputs": [],
   "source": [
    "df = pd.read_csv(path)"
   ]
  },
  {
   "cell_type": "code",
   "execution_count": 49,
   "metadata": {},
   "outputs": [
    {
     "data": {
      "text/html": [
       "<div>\n",
       "<style scoped>\n",
       "    .dataframe tbody tr th:only-of-type {\n",
       "        vertical-align: middle;\n",
       "    }\n",
       "\n",
       "    .dataframe tbody tr th {\n",
       "        vertical-align: top;\n",
       "    }\n",
       "\n",
       "    .dataframe thead th {\n",
       "        text-align: right;\n",
       "    }\n",
       "</style>\n",
       "<table border=\"1\" class=\"dataframe\">\n",
       "  <thead>\n",
       "    <tr style=\"text-align: right;\">\n",
       "      <th></th>\n",
       "      <th>caseno</th>\n",
       "      <th>popbasesec</th>\n",
       "      <th>country</th>\n",
       "      <th>region</th>\n",
       "      <th>la_group</th>\n",
       "      <th>residence_type</th>\n",
       "      <th>add1yr</th>\n",
       "      <th>ageh</th>\n",
       "      <th>agehrp</th>\n",
       "      <th>aggdtwpew11g</th>\n",
       "      <th>...</th>\n",
       "      <th>wg1famuk11</th>\n",
       "      <th>wkpladdewni</th>\n",
       "      <th>wlshread</th>\n",
       "      <th>wlshspeak</th>\n",
       "      <th>wlshstnd</th>\n",
       "      <th>wlshwrit</th>\n",
       "      <th>wpzhome</th>\n",
       "      <th>wrkplaceew</th>\n",
       "      <th>yradindstud</th>\n",
       "      <th>yrarr_yearg</th>\n",
       "    </tr>\n",
       "  </thead>\n",
       "  <tbody>\n",
       "    <tr>\n",
       "      <th>0</th>\n",
       "      <td>800051</td>\n",
       "      <td>1</td>\n",
       "      <td>1</td>\n",
       "      <td>1</td>\n",
       "      <td>1</td>\n",
       "      <td>2</td>\n",
       "      <td>1.0</td>\n",
       "      <td>2</td>\n",
       "      <td>4.0</td>\n",
       "      <td>NaN</td>\n",
       "      <td>...</td>\n",
       "      <td>2.0</td>\n",
       "      <td>NaN</td>\n",
       "      <td>NaN</td>\n",
       "      <td>NaN</td>\n",
       "      <td>NaN</td>\n",
       "      <td>NaN</td>\n",
       "      <td>NaN</td>\n",
       "      <td>NaN</td>\n",
       "      <td>0.0</td>\n",
       "      <td>NaN</td>\n",
       "    </tr>\n",
       "    <tr>\n",
       "      <th>1</th>\n",
       "      <td>800113</td>\n",
       "      <td>1</td>\n",
       "      <td>1</td>\n",
       "      <td>1</td>\n",
       "      <td>1</td>\n",
       "      <td>2</td>\n",
       "      <td>1.0</td>\n",
       "      <td>16</td>\n",
       "      <td>13.0</td>\n",
       "      <td>NaN</td>\n",
       "      <td>...</td>\n",
       "      <td>0.0</td>\n",
       "      <td>NaN</td>\n",
       "      <td>NaN</td>\n",
       "      <td>NaN</td>\n",
       "      <td>NaN</td>\n",
       "      <td>NaN</td>\n",
       "      <td>NaN</td>\n",
       "      <td>NaN</td>\n",
       "      <td>0.0</td>\n",
       "      <td>NaN</td>\n",
       "    </tr>\n",
       "    <tr>\n",
       "      <th>2</th>\n",
       "      <td>800118</td>\n",
       "      <td>1</td>\n",
       "      <td>1</td>\n",
       "      <td>1</td>\n",
       "      <td>1</td>\n",
       "      <td>2</td>\n",
       "      <td>1.0</td>\n",
       "      <td>6</td>\n",
       "      <td>3.0</td>\n",
       "      <td>2.0</td>\n",
       "      <td>...</td>\n",
       "      <td>NaN</td>\n",
       "      <td>1.0</td>\n",
       "      <td>NaN</td>\n",
       "      <td>NaN</td>\n",
       "      <td>NaN</td>\n",
       "      <td>NaN</td>\n",
       "      <td>3.0</td>\n",
       "      <td>3.0</td>\n",
       "      <td>0.0</td>\n",
       "      <td>NaN</td>\n",
       "    </tr>\n",
       "    <tr>\n",
       "      <th>3</th>\n",
       "      <td>800132</td>\n",
       "      <td>1</td>\n",
       "      <td>1</td>\n",
       "      <td>1</td>\n",
       "      <td>1</td>\n",
       "      <td>2</td>\n",
       "      <td>1.0</td>\n",
       "      <td>10</td>\n",
       "      <td>7.0</td>\n",
       "      <td>NaN</td>\n",
       "      <td>...</td>\n",
       "      <td>NaN</td>\n",
       "      <td>NaN</td>\n",
       "      <td>NaN</td>\n",
       "      <td>NaN</td>\n",
       "      <td>NaN</td>\n",
       "      <td>NaN</td>\n",
       "      <td>NaN</td>\n",
       "      <td>NaN</td>\n",
       "      <td>0.0</td>\n",
       "      <td>NaN</td>\n",
       "    </tr>\n",
       "    <tr>\n",
       "      <th>4</th>\n",
       "      <td>800142</td>\n",
       "      <td>1</td>\n",
       "      <td>1</td>\n",
       "      <td>1</td>\n",
       "      <td>1</td>\n",
       "      <td>2</td>\n",
       "      <td>1.0</td>\n",
       "      <td>16</td>\n",
       "      <td>13.0</td>\n",
       "      <td>NaN</td>\n",
       "      <td>...</td>\n",
       "      <td>NaN</td>\n",
       "      <td>NaN</td>\n",
       "      <td>NaN</td>\n",
       "      <td>NaN</td>\n",
       "      <td>NaN</td>\n",
       "      <td>NaN</td>\n",
       "      <td>NaN</td>\n",
       "      <td>NaN</td>\n",
       "      <td>0.0</td>\n",
       "      <td>NaN</td>\n",
       "    </tr>\n",
       "  </tbody>\n",
       "</table>\n",
       "<p>5 rows × 121 columns</p>\n",
       "</div>"
      ],
      "text/plain": [
       "   caseno  popbasesec  country  region  la_group  residence_type  add1yr  \\\n",
       "0  800051           1        1       1         1               2     1.0   \n",
       "1  800113           1        1       1         1               2     1.0   \n",
       "2  800118           1        1       1         1               2     1.0   \n",
       "3  800132           1        1       1         1               2     1.0   \n",
       "4  800142           1        1       1         1               2     1.0   \n",
       "\n",
       "   ageh  agehrp  aggdtwpew11g  ...  wg1famuk11  wkpladdewni  wlshread  \\\n",
       "0     2     4.0           NaN  ...         2.0          NaN       NaN   \n",
       "1    16    13.0           NaN  ...         0.0          NaN       NaN   \n",
       "2     6     3.0           2.0  ...         NaN          1.0       NaN   \n",
       "3    10     7.0           NaN  ...         NaN          NaN       NaN   \n",
       "4    16    13.0           NaN  ...         NaN          NaN       NaN   \n",
       "\n",
       "   wlshspeak  wlshstnd  wlshwrit  wpzhome  wrkplaceew  yradindstud  \\\n",
       "0        NaN       NaN       NaN      NaN         NaN          0.0   \n",
       "1        NaN       NaN       NaN      NaN         NaN          0.0   \n",
       "2        NaN       NaN       NaN      3.0         3.0          0.0   \n",
       "3        NaN       NaN       NaN      NaN         NaN          0.0   \n",
       "4        NaN       NaN       NaN      NaN         NaN          0.0   \n",
       "\n",
       "   yrarr_yearg  \n",
       "0          NaN  \n",
       "1          NaN  \n",
       "2          NaN  \n",
       "3          NaN  \n",
       "4          NaN  \n",
       "\n",
       "[5 rows x 121 columns]"
      ]
     },
     "execution_count": 49,
     "metadata": {},
     "output_type": "execute_result"
    }
   ],
   "source": [
    "df.head()"
   ]
  },
  {
   "cell_type": "code",
   "execution_count": 50,
   "metadata": {},
   "outputs": [
    {
     "data": {
      "text/plain": [
       "(2848149, 121)"
      ]
     },
     "execution_count": 50,
     "metadata": {},
     "output_type": "execute_result"
    }
   ],
   "source": [
    "df.shape"
   ]
  },
  {
   "cell_type": "code",
   "execution_count": 55,
   "metadata": {},
   "outputs": [
    {
     "data": {
      "text/plain": [
       "0"
      ]
     },
     "execution_count": 55,
     "metadata": {},
     "output_type": "execute_result"
    }
   ],
   "source": [
    "(df.la_group == -9).sum()"
   ]
  },
  {
   "cell_type": "code",
   "execution_count": 56,
   "metadata": {},
   "outputs": [
    {
     "data": {
      "text/plain": [
       "2803842"
      ]
     },
     "execution_count": 56,
     "metadata": {},
     "output_type": "execute_result"
    }
   ],
   "source": [
    "(df.popbasesec == 1).sum()"
   ]
  },
  {
   "cell_type": "code",
   "execution_count": 57,
   "metadata": {},
   "outputs": [],
   "source": [
    "#the second column, popbasesec, indicates whether the data is collected from a usual resident, \n",
    "#Student living away from home during term-time, or short term resident. As there may be some \n",
    "# duplicate entries for  basic information, I avoid this by filtering to only usual residents. \n",
    "\n",
    "mask = (df.popbasesec == 1)\n",
    "data = df[mask]"
   ]
  },
  {
   "cell_type": "code",
   "execution_count": 58,
   "metadata": {},
   "outputs": [
    {
     "data": {
      "text/plain": [
       "(2803842, 121)"
      ]
     },
     "execution_count": 58,
     "metadata": {},
     "output_type": "execute_result"
    }
   ],
   "source": [
    "data.shape"
   ]
  },
  {
   "cell_type": "code",
   "execution_count": 59,
   "metadata": {
    "scrolled": true
   },
   "outputs": [
    {
     "data": {
      "text/plain": [
       "['caseno',\n",
       " 'popbasesec',\n",
       " 'country',\n",
       " 'region',\n",
       " 'la_group',\n",
       " 'residence_type',\n",
       " 'add1yr',\n",
       " 'ageh',\n",
       " 'agehrp',\n",
       " 'aggdtwpew11g',\n",
       " 'ahchuk11',\n",
       " 'carer',\n",
       " 'carsnoc',\n",
       " 'cenheat',\n",
       " 'clients01',\n",
       " 'clients02',\n",
       " 'clients03',\n",
       " 'clients04',\n",
       " 'clients05',\n",
       " 'clients06',\n",
       " 'clients07',\n",
       " 'clients08',\n",
       " 'clients09',\n",
       " 'clients10',\n",
       " 'clients11',\n",
       " 'clients12',\n",
       " 'clients13',\n",
       " 'clients14',\n",
       " 'clients15',\n",
       " 'clients16',\n",
       " 'clients17',\n",
       " 'clients18',\n",
       " 'clients19',\n",
       " 'clients20',\n",
       " 'clients21',\n",
       " 'cobg',\n",
       " 'cobhukrcg',\n",
       " 'concealed',\n",
       " 'depedhuk11',\n",
       " 'depemhuk11',\n",
       " 'dephdhuk11',\n",
       " 'dephshuk11',\n",
       " 'deprived',\n",
       " 'disability',\n",
       " 'dpcfamuk11',\n",
       " 'ecopuk11',\n",
       " 'empstat',\n",
       " 'estnaturei',\n",
       " 'ethhuk11',\n",
       " 'ethnicityew',\n",
       " 'everwork',\n",
       " 'fmspuk11',\n",
       " 'health',\n",
       " 'hhldlang11',\n",
       " 'hlqupuk11',\n",
       " 'hours',\n",
       " 'housecarer',\n",
       " 'identityg',\n",
       " 'illhuk11g',\n",
       " 'indgpuk11',\n",
       " 'intention',\n",
       " 'iscog',\n",
       " 'landlordew',\n",
       " 'langprf',\n",
       " 'larpuk11',\n",
       " 'lastyrwrkg',\n",
       " 'mainglangg',\n",
       " 'marstat',\n",
       " 'meighuk11',\n",
       " 'mighuk11',\n",
       " 'mltrlg',\n",
       " 'movefromg',\n",
       " 'moveregion',\n",
       " 'natidbpuk11',\n",
       " 'natidepuk11',\n",
       " 'natidipuk11',\n",
       " 'natidnipuk11',\n",
       " 'natidopuk11',\n",
       " 'natidspuk11',\n",
       " 'natidwpuk11',\n",
       " 'nssec',\n",
       " 'nsshuk11',\n",
       " 'occg',\n",
       " 'passports',\n",
       " 'penexactpuk11',\n",
       " 'penhuk11',\n",
       " 'penpuk11',\n",
       " 'position',\n",
       " 'pproomhuk11',\n",
       " 'psptelog',\n",
       " 'relato',\n",
       " 'religionew',\n",
       " 'rtntypeg',\n",
       " 'scaddtyp',\n",
       " 'scghuk11',\n",
       " 'scgpuk11c',\n",
       " 'selfcon',\n",
       " 'sex',\n",
       " 'single',\n",
       " 'sizhuk11',\n",
       " 'sscaddcpew11',\n",
       " 'stapuk11',\n",
       " 'student',\n",
       " 'supervisor',\n",
       " 'tenduk11',\n",
       " 'tenure',\n",
       " 'transport',\n",
       " 'transport_2001',\n",
       " 'typaccom',\n",
       " 'unemphist',\n",
       " 'visitorsg',\n",
       " 'wg1famuk11',\n",
       " 'wkpladdewni',\n",
       " 'wlshread',\n",
       " 'wlshspeak',\n",
       " 'wlshstnd',\n",
       " 'wlshwrit',\n",
       " 'wpzhome',\n",
       " 'wrkplaceew',\n",
       " 'yradindstud',\n",
       " 'yrarr_yearg']"
      ]
     },
     "execution_count": 59,
     "metadata": {},
     "output_type": "execute_result"
    }
   ],
   "source": [
    "list(data.columns)"
   ]
  },
  {
   "cell_type": "code",
   "execution_count": 61,
   "metadata": {},
   "outputs": [],
   "source": [
    "#remember to split out geography before modelling \n",
    "\n",
    "cols_to_keep = ['country', 'region', 'la_group', 'ageh', 'ahchuk11','carer', 'carsnoc', 'cenheat',\n",
    "               'cobg','deprived', 'disability', 'dpcfamuk11', 'ecopuk11', 'ethnicityew','everwork', \n",
    "               'fmspuk11', 'health', 'hhldlang11', 'hlqupuk11','hours', 'housecarer',\n",
    "               'langprf', 'larpuk11', 'mainglangg', 'marstat', 'natidbpuk11', 'pproomhuk11','religionew',\n",
    "               'scgpuk11c','sex', 'student', 'tenduk11', 'transport', 'yrarr_yearg']"
   ]
  },
  {
   "cell_type": "code",
   "execution_count": 62,
   "metadata": {},
   "outputs": [],
   "source": [
    "df = data[cols_to_keep]"
   ]
  },
  {
   "cell_type": "code",
   "execution_count": 63,
   "metadata": {},
   "outputs": [
    {
     "data": {
      "text/plain": [
       "(2803842, 34)"
      ]
     },
     "execution_count": 63,
     "metadata": {},
     "output_type": "execute_result"
    }
   ],
   "source": [
    "df.shape"
   ]
  },
  {
   "cell_type": "code",
   "execution_count": 64,
   "metadata": {},
   "outputs": [
    {
     "data": {
      "text/plain": [
       "1.0    0.472279\n",
       "2.0    0.340101\n",
       "3.0    0.131679\n",
       "4.0    0.043166\n",
       "5.0    0.012775\n",
       "Name: health, dtype: float64"
      ]
     },
     "execution_count": 64,
     "metadata": {},
     "output_type": "execute_result"
    }
   ],
   "source": [
    "df.health.value_counts(normalize=True)"
   ]
  },
  {
   "cell_type": "code",
   "execution_count": 87,
   "metadata": {},
   "outputs": [
    {
     "data": {
      "text/html": [
       "<div>\n",
       "<style scoped>\n",
       "    .dataframe tbody tr th:only-of-type {\n",
       "        vertical-align: middle;\n",
       "    }\n",
       "\n",
       "    .dataframe tbody tr th {\n",
       "        vertical-align: top;\n",
       "    }\n",
       "\n",
       "    .dataframe thead th {\n",
       "        text-align: right;\n",
       "    }\n",
       "</style>\n",
       "<table border=\"1\" class=\"dataframe\">\n",
       "  <thead>\n",
       "    <tr style=\"text-align: right;\">\n",
       "      <th></th>\n",
       "      <th>health</th>\n",
       "    </tr>\n",
       "    <tr>\n",
       "      <th>la_group</th>\n",
       "      <th></th>\n",
       "    </tr>\n",
       "  </thead>\n",
       "  <tbody>\n",
       "    <tr>\n",
       "      <th>1</th>\n",
       "      <td>1.838712</td>\n",
       "    </tr>\n",
       "    <tr>\n",
       "      <th>2</th>\n",
       "      <td>1.865110</td>\n",
       "    </tr>\n",
       "    <tr>\n",
       "      <th>3</th>\n",
       "      <td>1.896807</td>\n",
       "    </tr>\n",
       "    <tr>\n",
       "      <th>4</th>\n",
       "      <td>1.818652</td>\n",
       "    </tr>\n",
       "    <tr>\n",
       "      <th>5</th>\n",
       "      <td>1.830602</td>\n",
       "    </tr>\n",
       "  </tbody>\n",
       "</table>\n",
       "</div>"
      ],
      "text/plain": [
       "            health\n",
       "la_group          \n",
       "1         1.838712\n",
       "2         1.865110\n",
       "3         1.896807\n",
       "4         1.818652\n",
       "5         1.830602"
      ]
     },
     "execution_count": 87,
     "metadata": {},
     "output_type": "execute_result"
    }
   ],
   "source": [
    "#df[['la_group', 'health']].groupby('la_group').mean()\n",
    "\n",
    "health = df[['la_group', 'health']].groupby(['la_group'])[['health']].mean()\n",
    "health.head()"
   ]
  },
  {
   "cell_type": "code",
   "execution_count": 80,
   "metadata": {},
   "outputs": [],
   "source": [
    "local_auths = pd.read_csv('local_authority_codes.csv')"
   ]
  },
  {
   "cell_type": "code",
   "execution_count": 81,
   "metadata": {},
   "outputs": [
    {
     "data": {
      "text/html": [
       "<div>\n",
       "<style scoped>\n",
       "    .dataframe tbody tr th:only-of-type {\n",
       "        vertical-align: middle;\n",
       "    }\n",
       "\n",
       "    .dataframe tbody tr th {\n",
       "        vertical-align: top;\n",
       "    }\n",
       "\n",
       "    .dataframe thead th {\n",
       "        text-align: right;\n",
       "    }\n",
       "</style>\n",
       "<table border=\"1\" class=\"dataframe\">\n",
       "  <thead>\n",
       "    <tr style=\"text-align: right;\">\n",
       "      <th></th>\n",
       "      <th>code</th>\n",
       "      <th>local_authority</th>\n",
       "    </tr>\n",
       "  </thead>\n",
       "  <tbody>\n",
       "    <tr>\n",
       "      <th>0</th>\n",
       "      <td>1</td>\n",
       "      <td>Hartlepool and Stockton-on-Tees</td>\n",
       "    </tr>\n",
       "    <tr>\n",
       "      <th>1</th>\n",
       "      <td>2</td>\n",
       "      <td>Middlesbrough</td>\n",
       "    </tr>\n",
       "    <tr>\n",
       "      <th>2</th>\n",
       "      <td>3</td>\n",
       "      <td>Redcar and Cleveland</td>\n",
       "    </tr>\n",
       "    <tr>\n",
       "      <th>3</th>\n",
       "      <td>4</td>\n",
       "      <td>Chester-le-Street and Durham</td>\n",
       "    </tr>\n",
       "    <tr>\n",
       "      <th>4</th>\n",
       "      <td>5</td>\n",
       "      <td>Darlington and Teesdale</td>\n",
       "    </tr>\n",
       "  </tbody>\n",
       "</table>\n",
       "</div>"
      ],
      "text/plain": [
       "   code                  local_authority\n",
       "0     1  Hartlepool and Stockton-on-Tees\n",
       "1     2                    Middlesbrough\n",
       "2     3             Redcar and Cleveland\n",
       "3     4     Chester-le-Street and Durham\n",
       "4     5          Darlington and Teesdale"
      ]
     },
     "execution_count": 81,
     "metadata": {},
     "output_type": "execute_result"
    }
   ],
   "source": [
    "local_auths.head()"
   ]
  },
  {
   "cell_type": "code",
   "execution_count": 44,
   "metadata": {},
   "outputs": [
    {
     "data": {
      "text/plain": [
       "country              0\n",
       "region               0\n",
       "la_group             0\n",
       "ageh                 0\n",
       "ahchuk11         50360\n",
       "carer                0\n",
       "carsnoc          50360\n",
       "cenheat          50360\n",
       "cobg                 0\n",
       "deprived         50360\n",
       "disability           0\n",
       "dpcfamuk11      564673\n",
       "ecopuk11        529423\n",
       "ethnicityew          0\n",
       "everwork       1864564\n",
       "fmspuk11             0\n",
       "health               0\n",
       "hhldlang11       50360\n",
       "hlqupuk11       529423\n",
       "hours          1468701\n",
       "housecarer       50360\n",
       "langprf        2587791\n",
       "larpuk11         50360\n",
       "mainglangg      105006\n",
       "marstat              0\n",
       "natidbpuk11          0\n",
       "pproomhuk11      50360\n",
       "religionew           0\n",
       "scgpuk11c      1021114\n",
       "sex                  0\n",
       "student              0\n",
       "tenduk11         50360\n",
       "transport      1468701\n",
       "yrarr_yearg    2429013\n",
       "dtype: int64"
      ]
     },
     "execution_count": 44,
     "metadata": {},
     "output_type": "execute_result"
    }
   ],
   "source": [
    "df.isna().sum() #the null values are NA's "
   ]
  },
  {
   "cell_type": "code",
   "execution_count": 20,
   "metadata": {},
   "outputs": [
    {
     "data": {
      "text/plain": [
       "54642"
      ]
     },
     "execution_count": 20,
     "metadata": {},
     "output_type": "execute_result"
    }
   ],
   "source": [
    "df.ahchuk11.isna().sum()"
   ]
  },
  {
   "cell_type": "code",
   "execution_count": 12,
   "metadata": {},
   "outputs": [],
   "source": [
    "na_test = df.dropna()"
   ]
  },
  {
   "cell_type": "code",
   "execution_count": 13,
   "metadata": {},
   "outputs": [
    {
     "data": {
      "text/plain": [
       "(0, 31)"
      ]
     },
     "execution_count": 13,
     "metadata": {},
     "output_type": "execute_result"
    }
   ],
   "source": [
    "na_test.shape # as suspected..the null values are in different columns "
   ]
  },
  {
   "cell_type": "code",
   "execution_count": 14,
   "metadata": {},
   "outputs": [],
   "source": [
    "df = df[df.health.isna() == False] #reducing to only columns that have an indicator in health "
   ]
  },
  {
   "cell_type": "code",
   "execution_count": 15,
   "metadata": {},
   "outputs": [
    {
     "data": {
      "text/plain": [
       "(2813290, 31)"
      ]
     },
     "execution_count": 15,
     "metadata": {},
     "output_type": "execute_result"
    }
   ],
   "source": [
    "df.shape "
   ]
  },
  {
   "cell_type": "code",
   "execution_count": null,
   "metadata": {},
   "outputs": [],
   "source": [
    "#now need to decide how best to fill the empty values. Will look into the most common \n",
    "#entry per area. "
   ]
  },
  {
   "cell_type": "code",
   "execution_count": 17,
   "metadata": {},
   "outputs": [
    {
     "data": {
      "text/plain": [
       "206    0.019178\n",
       "216    0.013424\n",
       "200    0.009893\n",
       "213    0.009311\n",
       "184    0.009036\n",
       "193    0.008330\n",
       "25     0.007654\n",
       "215    0.007524\n",
       "225    0.006466\n",
       "220    0.006377\n",
       "260    0.006206\n",
       "226    0.006080\n",
       "149    0.005948\n",
       "13     0.005941\n",
       "18     0.005926\n",
       "217    0.005789\n",
       "196    0.005679\n",
       "207    0.005677\n",
       "191    0.005647\n",
       "222    0.005580\n",
       "208    0.005556\n",
       "227    0.005555\n",
       "242    0.005538\n",
       "223    0.005501\n",
       "249    0.005498\n",
       "20     0.005498\n",
       "209    0.005495\n",
       "262    0.005463\n",
       "239    0.005432\n",
       "198    0.005382\n",
       "         ...   \n",
       "47     0.002452\n",
       "60     0.002445\n",
       "95     0.002433\n",
       "81     0.002430\n",
       "131    0.002416\n",
       "253    0.002408\n",
       "118    0.002405\n",
       "3      0.002404\n",
       "119    0.002397\n",
       "152    0.002388\n",
       "138    0.002378\n",
       "265    0.002360\n",
       "29     0.002334\n",
       "134    0.002333\n",
       "61     0.002330\n",
       "161    0.002327\n",
       "5      0.002324\n",
       "67     0.002260\n",
       "259    0.002241\n",
       "8      0.002239\n",
       "101    0.002238\n",
       "51     0.002232\n",
       "172    0.002230\n",
       "135    0.002213\n",
       "160    0.002211\n",
       "82     0.002206\n",
       "139    0.002199\n",
       "94     0.002185\n",
       "173    0.002132\n",
       "79     0.002118\n",
       "Name: la_group, Length: 265, dtype: float64"
      ]
     },
     "execution_count": 17,
     "metadata": {},
     "output_type": "execute_result"
    }
   ],
   "source": [
    "df.la_group.value_counts(normalize=True) #so 265 different local authorities represented. "
   ]
  },
  {
   "cell_type": "code",
   "execution_count": 31,
   "metadata": {},
   "outputs": [],
   "source": [
    "df.fillna(-9, inplace = True)"
   ]
  },
  {
   "cell_type": "code",
   "execution_count": 35,
   "metadata": {},
   "outputs": [],
   "source": [
    "y = df.pop('health')"
   ]
  },
  {
   "cell_type": "code",
   "execution_count": 71,
   "metadata": {},
   "outputs": [
    {
     "data": {
      "text/plain": [
       "1.0    0.472819\n",
       "2.0    0.340030\n",
       "3.0    0.131370\n",
       "4.0    0.043042\n",
       "5.0    0.012740\n",
       "Name: health, dtype: float64"
      ]
     },
     "execution_count": 71,
     "metadata": {},
     "output_type": "execute_result"
    }
   ],
   "source": [
    "y.value_counts(normalize=True)"
   ]
  },
  {
   "cell_type": "markdown",
   "metadata": {},
   "source": [
    "    Value label information for health\n",
    "\tValue = 1.0\tLabel = Very good health\n",
    "\tValue = 2.0\tLabel = Good health\n",
    "\tValue = 3.0\tLabel = Fair health\n",
    "\tValue = 4.0\tLabel = Bad health\n",
    "\tValue = 5.0\tLabel = Very bad health\n",
    "    Value = -9.0   Label = Not applicable --> already dropped"
   ]
  },
  {
   "cell_type": "code",
   "execution_count": 40,
   "metadata": {},
   "outputs": [
    {
     "data": {
      "text/plain": [
       "Index(['country', 'region', 'la_group', 'ageh', 'ahchuk11', 'carer', 'carsnoc',\n",
       "       'cenheat', 'cobg', 'deprived', 'disability', 'dpcfamuk11', 'ecopuk11',\n",
       "       'ethhuk11', 'everwork', 'fmspuk11', 'hhldlang11', 'hlqupuk11', 'hours',\n",
       "       'housecarer', 'illhuk11g', 'larpuk11', 'mainglangg', 'marstat',\n",
       "       'religionew', 'scgpuk11c', 'sex', 'student', 'tenduk11', 'transport'],\n",
       "      dtype='object')"
      ]
     },
     "execution_count": 40,
     "metadata": {},
     "output_type": "execute_result"
    }
   ],
   "source": [
    "df.columns"
   ]
  },
  {
   "cell_type": "code",
   "execution_count": 41,
   "metadata": {},
   "outputs": [],
   "source": [
    "df_geo = df[['country', 'region', 'la_group']]"
   ]
  },
  {
   "cell_type": "code",
   "execution_count": 43,
   "metadata": {},
   "outputs": [
    {
     "data": {
      "text/html": [
       "<div>\n",
       "<style scoped>\n",
       "    .dataframe tbody tr th:only-of-type {\n",
       "        vertical-align: middle;\n",
       "    }\n",
       "\n",
       "    .dataframe tbody tr th {\n",
       "        vertical-align: top;\n",
       "    }\n",
       "\n",
       "    .dataframe thead th {\n",
       "        text-align: right;\n",
       "    }\n",
       "</style>\n",
       "<table border=\"1\" class=\"dataframe\">\n",
       "  <thead>\n",
       "    <tr style=\"text-align: right;\">\n",
       "      <th></th>\n",
       "      <th>country</th>\n",
       "      <th>region</th>\n",
       "      <th>la_group</th>\n",
       "    </tr>\n",
       "  </thead>\n",
       "  <tbody>\n",
       "    <tr>\n",
       "      <th>0</th>\n",
       "      <td>1</td>\n",
       "      <td>1</td>\n",
       "      <td>1</td>\n",
       "    </tr>\n",
       "    <tr>\n",
       "      <th>1</th>\n",
       "      <td>1</td>\n",
       "      <td>1</td>\n",
       "      <td>1</td>\n",
       "    </tr>\n",
       "  </tbody>\n",
       "</table>\n",
       "</div>"
      ],
      "text/plain": [
       "   country  region  la_group\n",
       "0        1       1         1\n",
       "1        1       1         1"
      ]
     },
     "execution_count": 43,
     "metadata": {},
     "output_type": "execute_result"
    }
   ],
   "source": [
    "df_geo.head(2)"
   ]
  },
  {
   "cell_type": "code",
   "execution_count": 44,
   "metadata": {},
   "outputs": [],
   "source": [
    "df.drop(columns=['country', 'region', 'la_group'], inplace=True)"
   ]
  },
  {
   "cell_type": "code",
   "execution_count": 52,
   "metadata": {},
   "outputs": [],
   "source": [
    "columns = df.columns #choosing all the columns to convert into dummy variables "
   ]
  },
  {
   "cell_type": "code",
   "execution_count": 54,
   "metadata": {},
   "outputs": [],
   "source": [
    "X = pd.get_dummies(df, columns = columns, drop_first=True)"
   ]
  },
  {
   "cell_type": "code",
   "execution_count": 45,
   "metadata": {},
   "outputs": [
    {
     "ename": "NameError",
     "evalue": "name 'X' is not defined",
     "output_type": "error",
     "traceback": [
      "\u001b[0;31m---------------------------------------------------------------------------\u001b[0m",
      "\u001b[0;31mNameError\u001b[0m                                 Traceback (most recent call last)",
      "\u001b[0;32m<ipython-input-45-ae5cd47bda90>\u001b[0m in \u001b[0;36m<module>\u001b[0;34m\u001b[0m\n\u001b[0;32m----> 1\u001b[0;31m \u001b[0mX\u001b[0m\u001b[0;34m.\u001b[0m\u001b[0mhead\u001b[0m\u001b[0;34m(\u001b[0m\u001b[0;34m)\u001b[0m\u001b[0;34m\u001b[0m\u001b[0;34m\u001b[0m\u001b[0m\n\u001b[0m",
      "\u001b[0;31mNameError\u001b[0m: name 'X' is not defined"
     ]
    }
   ],
   "source": [
    "X.head()"
   ]
  },
  {
   "cell_type": "code",
   "execution_count": 56,
   "metadata": {},
   "outputs": [],
   "source": [
    "X_2000 = X.iloc[:6000,:]\n",
    "y_2000 = y[:6000]"
   ]
  },
  {
   "cell_type": "code",
   "execution_count": 57,
   "metadata": {},
   "outputs": [
    {
     "data": {
      "text/plain": [
       "(6000, 185)"
      ]
     },
     "execution_count": 57,
     "metadata": {},
     "output_type": "execute_result"
    }
   ],
   "source": [
    "X_2000.shape"
   ]
  },
  {
   "cell_type": "code",
   "execution_count": 58,
   "metadata": {},
   "outputs": [],
   "source": [
    "from sklearn.preprocessing import StandardScaler\n",
    "from sklearn.model_selection import train_test_split, GridSearchCV\n",
    "from sklearn.linear_model import LogisticRegressionCV, LogisticRegression"
   ]
  },
  {
   "cell_type": "code",
   "execution_count": 59,
   "metadata": {},
   "outputs": [],
   "source": [
    "X_train, X_test, y_train, y_test = train_test_split(X_2000, y_2000, test_size=0.3, shuffle=True)"
   ]
  },
  {
   "cell_type": "code",
   "execution_count": 60,
   "metadata": {},
   "outputs": [
    {
     "name": "stdout",
     "output_type": "stream",
     "text": [
      "(4200, 185)\n",
      "(4200,)\n"
     ]
    }
   ],
   "source": [
    "print(X_train.shape)\n",
    "print(y_train.shape)"
   ]
  },
  {
   "cell_type": "code",
   "execution_count": 61,
   "metadata": {},
   "outputs": [
    {
     "data": {
      "text/plain": [
       "(4200, 185)"
      ]
     },
     "execution_count": 61,
     "metadata": {},
     "output_type": "execute_result"
    }
   ],
   "source": [
    "X_train.shape"
   ]
  },
  {
   "cell_type": "code",
   "execution_count": 62,
   "metadata": {},
   "outputs": [],
   "source": [
    "model = LogisticRegressionCV(solver='liblinear', n_jobs=2, multi_class='ovr', cv=5)"
   ]
  },
  {
   "cell_type": "code",
   "execution_count": 63,
   "metadata": {},
   "outputs": [
    {
     "data": {
      "text/plain": [
       "LogisticRegressionCV(Cs=10, class_weight=None, cv=5, dual=False,\n",
       "           fit_intercept=True, intercept_scaling=1.0, max_iter=100,\n",
       "           multi_class='ovr', n_jobs=2, penalty='l2', random_state=None,\n",
       "           refit=True, scoring=None, solver='liblinear', tol=0.0001,\n",
       "           verbose=0)"
      ]
     },
     "execution_count": 63,
     "metadata": {},
     "output_type": "execute_result"
    }
   ],
   "source": [
    "model.fit(X_train, y_train)"
   ]
  },
  {
   "cell_type": "code",
   "execution_count": 64,
   "metadata": {},
   "outputs": [
    {
     "data": {
      "text/plain": [
       "0.5788888888888889"
      ]
     },
     "execution_count": 64,
     "metadata": {},
     "output_type": "execute_result"
    }
   ],
   "source": [
    "model.score(X_test, y_test)"
   ]
  },
  {
   "cell_type": "code",
   "execution_count": 66,
   "metadata": {},
   "outputs": [],
   "source": [
    "model = LogisticRegression(multi_class='ovr', solver='liblinear')"
   ]
  },
  {
   "cell_type": "code",
   "execution_count": 67,
   "metadata": {},
   "outputs": [],
   "source": [
    "model_params = {'penalty': ['l1', 'l2'], \n",
    "                'C': np.linspace(0.01, 10, 30)}"
   ]
  },
  {
   "cell_type": "code",
   "execution_count": 68,
   "metadata": {},
   "outputs": [],
   "source": [
    "gs = GridSearchCV(model, model_params, cv=5, verbose=1)"
   ]
  },
  {
   "cell_type": "code",
   "execution_count": 69,
   "metadata": {},
   "outputs": [
    {
     "name": "stdout",
     "output_type": "stream",
     "text": [
      "Fitting 5 folds for each of 60 candidates, totalling 300 fits\n"
     ]
    },
    {
     "name": "stderr",
     "output_type": "stream",
     "text": [
      "[Parallel(n_jobs=1)]: Using backend SequentialBackend with 1 concurrent workers.\n",
      "[Parallel(n_jobs=1)]: Done 300 out of 300 | elapsed:  4.1min finished\n"
     ]
    },
    {
     "data": {
      "text/plain": [
       "GridSearchCV(cv=5, error_score='raise-deprecating',\n",
       "       estimator=LogisticRegression(C=1.0, class_weight=None, dual=False, fit_intercept=True,\n",
       "          intercept_scaling=1, max_iter=100, multi_class='ovr',\n",
       "          n_jobs=None, penalty='l2', random_state=None, solver='liblinear',\n",
       "          tol=0.0001, verbose=0, warm_start=False),\n",
       "       fit_params=None, iid='warn', n_jobs=None,\n",
       "       param_grid={'penalty': ['l1', 'l2'], 'C': array([ 0.01   ,  0.35448,  0.69897,  1.04345,  1.38793,  1.73241,\n",
       "        2.0769 ,  2.42138,  2.76586,  3.11034,  3.45483,  3.79931,\n",
       "        4.14379,  4.48828,  4.83276,  5.17724,  5.52172,  5.86621,\n",
       "        6.21069,  6.55517,  6.89966,  7.24414,  7.58862,  7.9331 ,\n",
       "        8.27759,  8.62207,  8.96655,  9.31103,  9.65552, 10.     ])},\n",
       "       pre_dispatch='2*n_jobs', refit=True, return_train_score='warn',\n",
       "       scoring=None, verbose=1)"
      ]
     },
     "execution_count": 69,
     "metadata": {},
     "output_type": "execute_result"
    }
   ],
   "source": [
    "gs.fit(X_train, y_train)"
   ]
  },
  {
   "cell_type": "code",
   "execution_count": 83,
   "metadata": {},
   "outputs": [],
   "source": [
    "best_model = gs.best_estimator_"
   ]
  },
  {
   "cell_type": "code",
   "execution_count": 75,
   "metadata": {},
   "outputs": [
    {
     "name": "stdout",
     "output_type": "stream",
     "text": [
      "0.5978571428571429\n",
      "{'C': 0.3544827586206897, 'penalty': 'l1'}\n"
     ]
    }
   ],
   "source": [
    "print(gs.best_score_ ) #for reference, the baseline is 0.472819\n",
    "print(gs.best_params_)"
   ]
  },
  {
   "cell_type": "code",
   "execution_count": 90,
   "metadata": {},
   "outputs": [
    {
     "data": {
      "text/plain": [
       "(5, 185)"
      ]
     },
     "execution_count": 90,
     "metadata": {},
     "output_type": "execute_result"
    }
   ],
   "source": [
    "best_model.coef_.shape"
   ]
  },
  {
   "cell_type": "code",
   "execution_count": 96,
   "metadata": {},
   "outputs": [
    {
     "name": "stderr",
     "output_type": "stream",
     "text": [
      "/anaconda3/lib/python3.6/site-packages/sklearn/linear_model/logistic.py:433: FutureWarning: Default solver will be changed to 'lbfgs' in 0.22. Specify a solver to silence this warning.\n",
      "  FutureWarning)\n",
      "/anaconda3/lib/python3.6/site-packages/sklearn/linear_model/logistic.py:460: FutureWarning: Default multi_class will be changed to 'auto' in 0.22. Specify the multi_class option to silence this warning.\n",
      "  \"this warning.\", FutureWarning)\n"
     ]
    },
    {
     "data": {
      "text/plain": [
       "LogisticRegression(C=0.3544827586206897, class_weight=None, dual=False,\n",
       "          fit_intercept=True, intercept_scaling=1, max_iter=100,\n",
       "          multi_class='warn', n_jobs=None, penalty='l1', random_state=None,\n",
       "          solver='warn', tol=0.0001, verbose=0, warm_start=False)"
      ]
     },
     "execution_count": 96,
     "metadata": {},
     "output_type": "execute_result"
    }
   ],
   "source": [
    "lreg_best.fit(X_train, y_train)"
   ]
  },
  {
   "cell_type": "code",
   "execution_count": 97,
   "metadata": {},
   "outputs": [
    {
     "data": {
      "text/plain": [
       "0.6202380952380953"
      ]
     },
     "execution_count": 97,
     "metadata": {},
     "output_type": "execute_result"
    }
   ],
   "source": [
    "lreg_best.score(X_train, y_train)"
   ]
  },
  {
   "cell_type": "code",
   "execution_count": 99,
   "metadata": {},
   "outputs": [
    {
     "data": {
      "text/plain": [
       "(5, 185)"
      ]
     },
     "execution_count": 99,
     "metadata": {},
     "output_type": "execute_result"
    }
   ],
   "source": [
    "lreg_best.coef_.shape #so this is giving me the best coefficients for each of the 5 classes\n",
    "#I'm predicting. "
   ]
  },
  {
   "cell_type": "code",
   "execution_count": 104,
   "metadata": {},
   "outputs": [
    {
     "data": {
      "text/plain": [
       "array([1., 2., 3., 4., 5.])"
      ]
     },
     "execution_count": 104,
     "metadata": {},
     "output_type": "execute_result"
    }
   ],
   "source": [
    "lreg_best.classes_ #This is health from very good to very bad.."
   ]
  },
  {
   "cell_type": "code",
   "execution_count": 119,
   "metadata": {},
   "outputs": [
    {
     "data": {
      "text/html": [
       "<div>\n",
       "<style scoped>\n",
       "    .dataframe tbody tr th:only-of-type {\n",
       "        vertical-align: middle;\n",
       "    }\n",
       "\n",
       "    .dataframe tbody tr th {\n",
       "        vertical-align: top;\n",
       "    }\n",
       "\n",
       "    .dataframe thead th {\n",
       "        text-align: right;\n",
       "    }\n",
       "</style>\n",
       "<table border=\"1\" class=\"dataframe\">\n",
       "  <thead>\n",
       "    <tr style=\"text-align: right;\">\n",
       "      <th></th>\n",
       "      <th>Feature</th>\n",
       "      <th>Coefficient</th>\n",
       "      <th>Abs_Coefficient</th>\n",
       "    </tr>\n",
       "  </thead>\n",
       "  <tbody>\n",
       "    <tr>\n",
       "      <th>61</th>\n",
       "      <td>disability_3.0</td>\n",
       "      <td>2.308985</td>\n",
       "      <td>2.308985</td>\n",
       "    </tr>\n",
       "    <tr>\n",
       "      <th>176</th>\n",
       "      <td>transport_3.0</td>\n",
       "      <td>0.856118</td>\n",
       "      <td>0.856118</td>\n",
       "    </tr>\n",
       "    <tr>\n",
       "      <th>95</th>\n",
       "      <td>ethhuk11_13.0</td>\n",
       "      <td>-0.706855</td>\n",
       "      <td>0.706855</td>\n",
       "    </tr>\n",
       "    <tr>\n",
       "      <th>103</th>\n",
       "      <td>fmspuk11_6.0</td>\n",
       "      <td>-0.697227</td>\n",
       "      <td>0.697227</td>\n",
       "    </tr>\n",
       "    <tr>\n",
       "      <th>135</th>\n",
       "      <td>larpuk11_8.0</td>\n",
       "      <td>-0.617932</td>\n",
       "      <td>0.617932</td>\n",
       "    </tr>\n",
       "    <tr>\n",
       "      <th>111</th>\n",
       "      <td>hlqupuk11_10.0</td>\n",
       "      <td>-0.596882</td>\n",
       "      <td>0.596882</td>\n",
       "    </tr>\n",
       "    <tr>\n",
       "      <th>99</th>\n",
       "      <td>fmspuk11_2.0</td>\n",
       "      <td>-0.560698</td>\n",
       "      <td>0.560698</td>\n",
       "    </tr>\n",
       "    <tr>\n",
       "      <th>58</th>\n",
       "      <td>deprived_4.0</td>\n",
       "      <td>-0.530478</td>\n",
       "      <td>0.530478</td>\n",
       "    </tr>\n",
       "    <tr>\n",
       "      <th>12</th>\n",
       "      <td>ageh_14</td>\n",
       "      <td>-0.518066</td>\n",
       "      <td>0.518066</td>\n",
       "    </tr>\n",
       "    <tr>\n",
       "      <th>100</th>\n",
       "      <td>fmspuk11_3.0</td>\n",
       "      <td>-0.512507</td>\n",
       "      <td>0.512507</td>\n",
       "    </tr>\n",
       "  </tbody>\n",
       "</table>\n",
       "</div>"
      ],
      "text/plain": [
       "            Feature  Coefficient  Abs_Coefficient\n",
       "61   disability_3.0     2.308985         2.308985\n",
       "176   transport_3.0     0.856118         0.856118\n",
       "95    ethhuk11_13.0    -0.706855         0.706855\n",
       "103    fmspuk11_6.0    -0.697227         0.697227\n",
       "135    larpuk11_8.0    -0.617932         0.617932\n",
       "111  hlqupuk11_10.0    -0.596882         0.596882\n",
       "99     fmspuk11_2.0    -0.560698         0.560698\n",
       "58     deprived_4.0    -0.530478         0.530478\n",
       "12          ageh_14    -0.518066         0.518066\n",
       "100    fmspuk11_3.0    -0.512507         0.512507"
      ]
     },
     "execution_count": 119,
     "metadata": {},
     "output_type": "execute_result"
    }
   ],
   "source": [
    "#These are the features that best help predict class 1 (Very good health)\n",
    "pd.DataFrame(list(zip(X_train.columns, lreg_best.coef_[0], abs(lreg_best.coef_[0]))), \n",
    "             columns = ['Feature', 'Coefficient', 'Abs_Coefficient']).sort_values(\n",
    "             by='Abs_Coefficient', ascending=False).head(10)"
   ]
  },
  {
   "cell_type": "code",
   "execution_count": 120,
   "metadata": {},
   "outputs": [
    {
     "data": {
      "text/html": [
       "<div>\n",
       "<style scoped>\n",
       "    .dataframe tbody tr th:only-of-type {\n",
       "        vertical-align: middle;\n",
       "    }\n",
       "\n",
       "    .dataframe tbody tr th {\n",
       "        vertical-align: top;\n",
       "    }\n",
       "\n",
       "    .dataframe thead th {\n",
       "        text-align: right;\n",
       "    }\n",
       "</style>\n",
       "<table border=\"1\" class=\"dataframe\">\n",
       "  <thead>\n",
       "    <tr style=\"text-align: right;\">\n",
       "      <th></th>\n",
       "      <th>Feature</th>\n",
       "      <th>Coefficient</th>\n",
       "      <th>Abs_Coefficient</th>\n",
       "    </tr>\n",
       "  </thead>\n",
       "  <tbody>\n",
       "    <tr>\n",
       "      <th>61</th>\n",
       "      <td>disability_3.0</td>\n",
       "      <td>-4.499661</td>\n",
       "      <td>4.499661</td>\n",
       "    </tr>\n",
       "    <tr>\n",
       "      <th>60</th>\n",
       "      <td>disability_2.0</td>\n",
       "      <td>-2.804645</td>\n",
       "      <td>2.804645</td>\n",
       "    </tr>\n",
       "    <tr>\n",
       "      <th>33</th>\n",
       "      <td>carsnoc_2.0</td>\n",
       "      <td>-1.025891</td>\n",
       "      <td>1.025891</td>\n",
       "    </tr>\n",
       "    <tr>\n",
       "      <th>11</th>\n",
       "      <td>ageh_13</td>\n",
       "      <td>0.681333</td>\n",
       "      <td>0.681333</td>\n",
       "    </tr>\n",
       "    <tr>\n",
       "      <th>122</th>\n",
       "      <td>housecarer_0.0</td>\n",
       "      <td>-0.584688</td>\n",
       "      <td>0.584688</td>\n",
       "    </tr>\n",
       "    <tr>\n",
       "      <th>157</th>\n",
       "      <td>religionew_9.0</td>\n",
       "      <td>0.402756</td>\n",
       "      <td>0.402756</td>\n",
       "    </tr>\n",
       "    <tr>\n",
       "      <th>164</th>\n",
       "      <td>tenduk11_0.0</td>\n",
       "      <td>-0.279414</td>\n",
       "      <td>0.279414</td>\n",
       "    </tr>\n",
       "    <tr>\n",
       "      <th>150</th>\n",
       "      <td>religionew_2.0</td>\n",
       "      <td>-0.252496</td>\n",
       "      <td>0.252496</td>\n",
       "    </tr>\n",
       "    <tr>\n",
       "      <th>64</th>\n",
       "      <td>dpcfamuk11_3.0</td>\n",
       "      <td>0.224356</td>\n",
       "      <td>0.224356</td>\n",
       "    </tr>\n",
       "    <tr>\n",
       "      <th>70</th>\n",
       "      <td>ecopuk11_2.0</td>\n",
       "      <td>-0.221139</td>\n",
       "      <td>0.221139</td>\n",
       "    </tr>\n",
       "  </tbody>\n",
       "</table>\n",
       "</div>"
      ],
      "text/plain": [
       "            Feature  Coefficient  Abs_Coefficient\n",
       "61   disability_3.0    -4.499661         4.499661\n",
       "60   disability_2.0    -2.804645         2.804645\n",
       "33      carsnoc_2.0    -1.025891         1.025891\n",
       "11          ageh_13     0.681333         0.681333\n",
       "122  housecarer_0.0    -0.584688         0.584688\n",
       "157  religionew_9.0     0.402756         0.402756\n",
       "164    tenduk11_0.0    -0.279414         0.279414\n",
       "150  religionew_2.0    -0.252496         0.252496\n",
       "64   dpcfamuk11_3.0     0.224356         0.224356\n",
       "70     ecopuk11_2.0    -0.221139         0.221139"
      ]
     },
     "execution_count": 120,
     "metadata": {},
     "output_type": "execute_result"
    }
   ],
   "source": [
    "#These are the features that best help predict class 5 (Very bad health)\n",
    "pd.DataFrame(list(zip(X_train.columns, lreg_best.coef_[4], abs(lreg_best.coef_[4]))), \n",
    "             columns = ['Feature', 'Coefficient', 'Abs_Coefficient']).sort_values(\n",
    "             by='Abs_Coefficient', ascending=False).head(10)"
   ]
  },
  {
   "cell_type": "code",
   "execution_count": null,
   "metadata": {},
   "outputs": [],
   "source": []
  },
  {
   "cell_type": "code",
   "execution_count": 103,
   "metadata": {},
   "outputs": [],
   "source": [
    "#and for interest, trying a KNN and SVM \n",
    "from sklearn.neighbors import KNeighborsClassifier\n",
    "from sklearn.svm import SVC"
   ]
  },
  {
   "cell_type": "code",
   "execution_count": 134,
   "metadata": {},
   "outputs": [],
   "source": [
    "knn = KNeighborsClassifier()"
   ]
  },
  {
   "cell_type": "code",
   "execution_count": 135,
   "metadata": {},
   "outputs": [
    {
     "data": {
      "text/plain": [
       "KNeighborsClassifier(algorithm='auto', leaf_size=30, metric='minkowski',\n",
       "           metric_params=None, n_jobs=None, n_neighbors=5, p=2,\n",
       "           weights='uniform')"
      ]
     },
     "execution_count": 135,
     "metadata": {},
     "output_type": "execute_result"
    }
   ],
   "source": [
    "knn.fit(X_train, y_train)"
   ]
  },
  {
   "cell_type": "code",
   "execution_count": 136,
   "metadata": {},
   "outputs": [
    {
     "data": {
      "text/plain": [
       "0.5366666666666666"
      ]
     },
     "execution_count": 136,
     "metadata": {},
     "output_type": "execute_result"
    }
   ],
   "source": [
    "knn.score(X_test, y_test)"
   ]
  },
  {
   "cell_type": "code",
   "execution_count": 140,
   "metadata": {},
   "outputs": [],
   "source": [
    "clf = SVC()"
   ]
  },
  {
   "cell_type": "code",
   "execution_count": 141,
   "metadata": {},
   "outputs": [
    {
     "name": "stderr",
     "output_type": "stream",
     "text": [
      "/anaconda3/lib/python3.6/site-packages/sklearn/svm/base.py:196: FutureWarning: The default value of gamma will change from 'auto' to 'scale' in version 0.22 to account better for unscaled features. Set gamma explicitly to 'auto' or 'scale' to avoid this warning.\n",
      "  \"avoid this warning.\", FutureWarning)\n"
     ]
    },
    {
     "data": {
      "text/plain": [
       "SVC(C=1.0, cache_size=200, class_weight=None, coef0=0.0,\n",
       "  decision_function_shape='ovr', degree=3, gamma='auto_deprecated',\n",
       "  kernel='rbf', max_iter=-1, probability=False, random_state=None,\n",
       "  shrinking=True, tol=0.001, verbose=False)"
      ]
     },
     "execution_count": 141,
     "metadata": {},
     "output_type": "execute_result"
    }
   ],
   "source": [
    "clf.fit(np.array(X_train), y_train)"
   ]
  },
  {
   "cell_type": "code",
   "execution_count": 142,
   "metadata": {},
   "outputs": [
    {
     "data": {
      "text/plain": [
       "0.5477777777777778"
      ]
     },
     "execution_count": 142,
     "metadata": {},
     "output_type": "execute_result"
    }
   ],
   "source": [
    "clf.score(X_test, y_test)"
   ]
  },
  {
   "cell_type": "code",
   "execution_count": null,
   "metadata": {},
   "outputs": [],
   "source": [
    "#Notes: fill null values with a proxy - a mean value, a mean per local authority, \n",
    "# or fill from above (as a kind a kind of neighbor proxy)\n",
    "\n",
    "\n",
    "# Look into Likert scale. \n",
    "# Perhaps try linear regression on the scale from 1 - 5"
   ]
  }
 ],
 "metadata": {
  "kernelspec": {
   "display_name": "Python 3",
   "language": "python",
   "name": "python3"
  },
  "language_info": {
   "codemirror_mode": {
    "name": "ipython",
    "version": 3
   },
   "file_extension": ".py",
   "mimetype": "text/x-python",
   "name": "python",
   "nbconvert_exporter": "python",
   "pygments_lexer": "ipython3",
   "version": "3.6.8"
  }
 },
 "nbformat": 4,
 "nbformat_minor": 2
}

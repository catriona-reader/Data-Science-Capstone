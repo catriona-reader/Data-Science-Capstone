{
 "cells": [
  {
   "cell_type": "markdown",
   "metadata": {},
   "source": [
    "<b style=\"color:Tomato;\">Cleaning micro-data</b>\n",
    "\n",
    "---"
   ]
  },
  {
   "cell_type": "code",
   "execution_count": 2,
   "metadata": {},
   "outputs": [],
   "source": [
    "import pandas as pd\n",
    "import numpy as np\n",
    "import matplotlib.pyplot as plt\n",
    "import seaborn as sns\n",
    " \n",
    "sns.set_palette('deep')\n",
    "sns.set_style('darkgrid')\n",
    "\n",
    "%config InlineBackend.figure_format = 'retina'\n",
    "%matplotlib inline"
   ]
  },
  {
   "cell_type": "code",
   "execution_count": 278,
   "metadata": {},
   "outputs": [],
   "source": [
    "from sklearn.preprocessing import StandardScaler\n",
    "from sklearn.model_selection import train_test_split, GridSearchCV\n",
    "from sklearn.linear_model import LogisticRegressionCV, LogisticRegression\n",
    "from sklearn.neighbors import KNeighborsClassifier\n",
    "from sklearn.svm import SVC\n",
    "\n",
    "from sklearn.metrics import confusion_matrix, classification_report"
   ]
  },
  {
   "cell_type": "markdown",
   "metadata": {},
   "source": [
    "### 1. Reading in the file and cleaning the data "
   ]
  },
  {
   "cell_type": "code",
   "execution_count": 13,
   "metadata": {},
   "outputs": [],
   "source": [
    "path = 'datasets/micro-data/csv/recodev12.csv'"
   ]
  },
  {
   "cell_type": "code",
   "execution_count": 14,
   "metadata": {},
   "outputs": [],
   "source": [
    "df = pd.read_csv(path)"
   ]
  },
  {
   "cell_type": "code",
   "execution_count": 15,
   "metadata": {},
   "outputs": [
    {
     "data": {
      "text/html": [
       "<div>\n",
       "<style scoped>\n",
       "    .dataframe tbody tr th:only-of-type {\n",
       "        vertical-align: middle;\n",
       "    }\n",
       "\n",
       "    .dataframe tbody tr th {\n",
       "        vertical-align: top;\n",
       "    }\n",
       "\n",
       "    .dataframe thead th {\n",
       "        text-align: right;\n",
       "    }\n",
       "</style>\n",
       "<table border=\"1\" class=\"dataframe\">\n",
       "  <thead>\n",
       "    <tr style=\"text-align: right;\">\n",
       "      <th></th>\n",
       "      <th>caseno</th>\n",
       "      <th>popbasesec</th>\n",
       "      <th>country</th>\n",
       "      <th>region</th>\n",
       "      <th>la_group</th>\n",
       "      <th>residence_type</th>\n",
       "      <th>add1yr</th>\n",
       "      <th>ageh</th>\n",
       "      <th>agehrp</th>\n",
       "      <th>aggdtwpew11g</th>\n",
       "      <th>...</th>\n",
       "      <th>wg1famuk11</th>\n",
       "      <th>wkpladdewni</th>\n",
       "      <th>wlshread</th>\n",
       "      <th>wlshspeak</th>\n",
       "      <th>wlshstnd</th>\n",
       "      <th>wlshwrit</th>\n",
       "      <th>wpzhome</th>\n",
       "      <th>wrkplaceew</th>\n",
       "      <th>yradindstud</th>\n",
       "      <th>yrarr_yearg</th>\n",
       "    </tr>\n",
       "  </thead>\n",
       "  <tbody>\n",
       "    <tr>\n",
       "      <th>0</th>\n",
       "      <td>800051</td>\n",
       "      <td>1</td>\n",
       "      <td>1</td>\n",
       "      <td>1</td>\n",
       "      <td>1</td>\n",
       "      <td>2</td>\n",
       "      <td>1.0</td>\n",
       "      <td>2</td>\n",
       "      <td>4.0</td>\n",
       "      <td>NaN</td>\n",
       "      <td>...</td>\n",
       "      <td>2.0</td>\n",
       "      <td>NaN</td>\n",
       "      <td>NaN</td>\n",
       "      <td>NaN</td>\n",
       "      <td>NaN</td>\n",
       "      <td>NaN</td>\n",
       "      <td>NaN</td>\n",
       "      <td>NaN</td>\n",
       "      <td>0.0</td>\n",
       "      <td>NaN</td>\n",
       "    </tr>\n",
       "    <tr>\n",
       "      <th>1</th>\n",
       "      <td>800113</td>\n",
       "      <td>1</td>\n",
       "      <td>1</td>\n",
       "      <td>1</td>\n",
       "      <td>1</td>\n",
       "      <td>2</td>\n",
       "      <td>1.0</td>\n",
       "      <td>16</td>\n",
       "      <td>13.0</td>\n",
       "      <td>NaN</td>\n",
       "      <td>...</td>\n",
       "      <td>0.0</td>\n",
       "      <td>NaN</td>\n",
       "      <td>NaN</td>\n",
       "      <td>NaN</td>\n",
       "      <td>NaN</td>\n",
       "      <td>NaN</td>\n",
       "      <td>NaN</td>\n",
       "      <td>NaN</td>\n",
       "      <td>0.0</td>\n",
       "      <td>NaN</td>\n",
       "    </tr>\n",
       "    <tr>\n",
       "      <th>2</th>\n",
       "      <td>800118</td>\n",
       "      <td>1</td>\n",
       "      <td>1</td>\n",
       "      <td>1</td>\n",
       "      <td>1</td>\n",
       "      <td>2</td>\n",
       "      <td>1.0</td>\n",
       "      <td>6</td>\n",
       "      <td>3.0</td>\n",
       "      <td>2.0</td>\n",
       "      <td>...</td>\n",
       "      <td>NaN</td>\n",
       "      <td>1.0</td>\n",
       "      <td>NaN</td>\n",
       "      <td>NaN</td>\n",
       "      <td>NaN</td>\n",
       "      <td>NaN</td>\n",
       "      <td>3.0</td>\n",
       "      <td>3.0</td>\n",
       "      <td>0.0</td>\n",
       "      <td>NaN</td>\n",
       "    </tr>\n",
       "    <tr>\n",
       "      <th>3</th>\n",
       "      <td>800132</td>\n",
       "      <td>1</td>\n",
       "      <td>1</td>\n",
       "      <td>1</td>\n",
       "      <td>1</td>\n",
       "      <td>2</td>\n",
       "      <td>1.0</td>\n",
       "      <td>10</td>\n",
       "      <td>7.0</td>\n",
       "      <td>NaN</td>\n",
       "      <td>...</td>\n",
       "      <td>NaN</td>\n",
       "      <td>NaN</td>\n",
       "      <td>NaN</td>\n",
       "      <td>NaN</td>\n",
       "      <td>NaN</td>\n",
       "      <td>NaN</td>\n",
       "      <td>NaN</td>\n",
       "      <td>NaN</td>\n",
       "      <td>0.0</td>\n",
       "      <td>NaN</td>\n",
       "    </tr>\n",
       "    <tr>\n",
       "      <th>4</th>\n",
       "      <td>800142</td>\n",
       "      <td>1</td>\n",
       "      <td>1</td>\n",
       "      <td>1</td>\n",
       "      <td>1</td>\n",
       "      <td>2</td>\n",
       "      <td>1.0</td>\n",
       "      <td>16</td>\n",
       "      <td>13.0</td>\n",
       "      <td>NaN</td>\n",
       "      <td>...</td>\n",
       "      <td>NaN</td>\n",
       "      <td>NaN</td>\n",
       "      <td>NaN</td>\n",
       "      <td>NaN</td>\n",
       "      <td>NaN</td>\n",
       "      <td>NaN</td>\n",
       "      <td>NaN</td>\n",
       "      <td>NaN</td>\n",
       "      <td>0.0</td>\n",
       "      <td>NaN</td>\n",
       "    </tr>\n",
       "  </tbody>\n",
       "</table>\n",
       "<p>5 rows × 121 columns</p>\n",
       "</div>"
      ],
      "text/plain": [
       "   caseno  popbasesec  country  region  la_group  residence_type  add1yr  \\\n",
       "0  800051           1        1       1         1               2     1.0   \n",
       "1  800113           1        1       1         1               2     1.0   \n",
       "2  800118           1        1       1         1               2     1.0   \n",
       "3  800132           1        1       1         1               2     1.0   \n",
       "4  800142           1        1       1         1               2     1.0   \n",
       "\n",
       "   ageh  agehrp  aggdtwpew11g  ...  wg1famuk11  wkpladdewni  wlshread  \\\n",
       "0     2     4.0           NaN  ...         2.0          NaN       NaN   \n",
       "1    16    13.0           NaN  ...         0.0          NaN       NaN   \n",
       "2     6     3.0           2.0  ...         NaN          1.0       NaN   \n",
       "3    10     7.0           NaN  ...         NaN          NaN       NaN   \n",
       "4    16    13.0           NaN  ...         NaN          NaN       NaN   \n",
       "\n",
       "   wlshspeak  wlshstnd  wlshwrit  wpzhome  wrkplaceew  yradindstud  \\\n",
       "0        NaN       NaN       NaN      NaN         NaN          0.0   \n",
       "1        NaN       NaN       NaN      NaN         NaN          0.0   \n",
       "2        NaN       NaN       NaN      3.0         3.0          0.0   \n",
       "3        NaN       NaN       NaN      NaN         NaN          0.0   \n",
       "4        NaN       NaN       NaN      NaN         NaN          0.0   \n",
       "\n",
       "   yrarr_yearg  \n",
       "0          NaN  \n",
       "1          NaN  \n",
       "2          NaN  \n",
       "3          NaN  \n",
       "4          NaN  \n",
       "\n",
       "[5 rows x 121 columns]"
      ]
     },
     "execution_count": 15,
     "metadata": {},
     "output_type": "execute_result"
    }
   ],
   "source": [
    "df.head()"
   ]
  },
  {
   "cell_type": "code",
   "execution_count": 16,
   "metadata": {},
   "outputs": [
    {
     "data": {
      "text/plain": [
       "(2848149, 121)"
      ]
     },
     "execution_count": 16,
     "metadata": {},
     "output_type": "execute_result"
    }
   ],
   "source": [
    "df.shape #I have 2848149 entries (approximately 5% of the census, and 121 columns or variables)"
   ]
  },
  {
   "cell_type": "markdown",
   "metadata": {},
   "source": [
    "<i style=\"color:Tomato;\">Given the size of this data, I use the written description of the micro-data released alongside it to whittle it down to the dataset I want to work with, before performing further cleaning and EDA.  </i>"
   ]
  },
  {
   "cell_type": "code",
   "execution_count": 17,
   "metadata": {},
   "outputs": [
    {
     "data": {
      "text/plain": [
       "2803842"
      ]
     },
     "execution_count": 17,
     "metadata": {},
     "output_type": "execute_result"
    }
   ],
   "source": [
    "(df.popbasesec == 1).sum()"
   ]
  },
  {
   "cell_type": "markdown",
   "metadata": {},
   "source": [
    "<i style=\"color:Tomato;\">The second column, popbasesec, indicates whether the data is collected from a usual resident, Student living away from home during term-time, or short term resident. As there are some \n",
    "duplicate entries for  basic information, I filter to only usual residents. </i>"
   ]
  },
  {
   "cell_type": "code",
   "execution_count": 18,
   "metadata": {},
   "outputs": [],
   "source": [
    "mask = (df.popbasesec == 1)\n",
    "data = df[mask]"
   ]
  },
  {
   "cell_type": "code",
   "execution_count": 19,
   "metadata": {
    "scrolled": true
   },
   "outputs": [
    {
     "data": {
      "text/plain": [
       "Index(['caseno', 'popbasesec', 'country', 'region', 'la_group',\n",
       "       'residence_type', 'add1yr', 'ageh', 'agehrp', 'aggdtwpew11g',\n",
       "       ...\n",
       "       'wg1famuk11', 'wkpladdewni', 'wlshread', 'wlshspeak', 'wlshstnd',\n",
       "       'wlshwrit', 'wpzhome', 'wrkplaceew', 'yradindstud', 'yrarr_yearg'],\n",
       "      dtype='object', length=121)"
      ]
     },
     "execution_count": 19,
     "metadata": {},
     "output_type": "execute_result"
    }
   ],
   "source": [
    "data.columns"
   ]
  },
  {
   "cell_type": "markdown",
   "metadata": {},
   "source": [
    "<i style=\"color:Tomato;\">By reading the description of each variable, these are the ones I have decided to work with\n",
    "As the aim of this model will be to predict health, I didn't keep variables that were too closely related (e.g. having long term illness) </i>"
   ]
  },
  {
   "cell_type": "code",
   "execution_count": 20,
   "metadata": {},
   "outputs": [],
   "source": [
    "to_keep = ['country', 'region', 'la_group', 'ageh', 'ahchuk11','carer', 'carsnoc', 'cenheat',\n",
    "           'cobg','depemhuk11', 'dephshuk11', 'dpcfamuk11', 'ecopuk11', 'ethnicityew','everwork', \n",
    "           'fmspuk11', 'health', 'hhldlang11', 'hlqupuk11','hours', 'housecarer', 'identityg',\n",
    "           'langprf', 'mainglangg', 'marstat', 'pproomhuk11','religionew',\n",
    "           'scgpuk11c','sex', 'student', 'tenduk11', 'transport', 'unemphist', 'yrarr_yearg']"
   ]
  },
  {
   "cell_type": "code",
   "execution_count": 21,
   "metadata": {},
   "outputs": [
    {
     "data": {
      "text/plain": [
       "(2803842, 34)"
      ]
     },
     "execution_count": 21,
     "metadata": {},
     "output_type": "execute_result"
    }
   ],
   "source": [
    "df = data[to_keep]\n",
    "df.shape "
   ]
  },
  {
   "cell_type": "code",
   "execution_count": 22,
   "metadata": {},
   "outputs": [
    {
     "data": {
      "text/plain": [
       "1.0    0.472279\n",
       "2.0    0.340101\n",
       "3.0    0.131679\n",
       "4.0    0.043166\n",
       "5.0    0.012775\n",
       "Name: health, dtype: float64"
      ]
     },
     "execution_count": 22,
     "metadata": {},
     "output_type": "execute_result"
    }
   ],
   "source": [
    "df.health.value_counts(normalize=True) #this will become the target"
   ]
  },
  {
   "cell_type": "code",
   "execution_count": 23,
   "metadata": {},
   "outputs": [
    {
     "data": {
      "text/plain": [
       "country              0\n",
       "region               0\n",
       "la_group             0\n",
       "ageh                 0\n",
       "ahchuk11         50360\n",
       "carer                0\n",
       "carsnoc          50360\n",
       "cenheat          50360\n",
       "cobg                 0\n",
       "depemhuk11       50360\n",
       "dephshuk11       50360\n",
       "dpcfamuk11      564673\n",
       "ecopuk11        529423\n",
       "ethnicityew          0\n",
       "everwork       1864564\n",
       "fmspuk11             0\n",
       "health               0\n",
       "hhldlang11       50360\n",
       "hlqupuk11       529423\n",
       "hours          1468701\n",
       "housecarer       50360\n",
       "identityg      2572886\n",
       "langprf        2587791\n",
       "mainglangg      105006\n",
       "marstat              0\n",
       "pproomhuk11      50360\n",
       "religionew           0\n",
       "scgpuk11c      1021114\n",
       "sex                  0\n",
       "student              0\n",
       "tenduk11         50360\n",
       "transport      1468701\n",
       "unemphist      1864564\n",
       "yrarr_yearg    2429013\n",
       "dtype: int64"
      ]
     },
     "execution_count": 23,
     "metadata": {},
     "output_type": "execute_result"
    }
   ],
   "source": [
    "df.isna().sum() #the null values are NA's  - but some are equivalent to 0"
   ]
  },
  {
   "cell_type": "markdown",
   "metadata": {},
   "source": [
    "<i style=\"color:Tomato;\">A lot of columns are missing the same number of values, 50360 - these are all variables to \n",
    "do with households, so will be NA for those not living in households (a household includes flats, single-occupancy, communal living, etc.). I suspect these are people living in homes (care-assisted etc.) and will drop these. \n",
    "(NB - describe this decision in more detail)  </i>"
   ]
  },
  {
   "cell_type": "code",
   "execution_count": 24,
   "metadata": {},
   "outputs": [],
   "source": [
    "mask = (df.ahchuk11.isna() == False)"
   ]
  },
  {
   "cell_type": "code",
   "execution_count": 25,
   "metadata": {},
   "outputs": [],
   "source": [
    "df = df[mask]"
   ]
  },
  {
   "cell_type": "code",
   "execution_count": 26,
   "metadata": {},
   "outputs": [],
   "source": [
    "df = df[df.health.isna() == False] #reducing to only columns that have an indicator in health "
   ]
  },
  {
   "cell_type": "code",
   "execution_count": 27,
   "metadata": {},
   "outputs": [
    {
     "data": {
      "text/plain": [
       "(2753482, 34)"
      ]
     },
     "execution_count": 27,
     "metadata": {},
     "output_type": "execute_result"
    }
   ],
   "source": [
    "df.shape "
   ]
  },
  {
   "cell_type": "code",
   "execution_count": 28,
   "metadata": {},
   "outputs": [
    {
     "data": {
      "text/plain": [
       "country              0\n",
       "region               0\n",
       "la_group             0\n",
       "ageh                 0\n",
       "ahchuk11             0\n",
       "carer                0\n",
       "carsnoc              0\n",
       "cenheat              0\n",
       "cobg                 0\n",
       "depemhuk11           0\n",
       "dephshuk11           0\n",
       "dpcfamuk11      514313\n",
       "ecopuk11        527401\n",
       "ethnicityew          0\n",
       "everwork       1853676\n",
       "fmspuk11             0\n",
       "health               0\n",
       "hhldlang11           0\n",
       "hlqupuk11       527401\n",
       "hours          1427207\n",
       "housecarer           0\n",
       "identityg      2530383\n",
       "langprf        2543260\n",
       "mainglangg      104904\n",
       "marstat              0\n",
       "pproomhuk11          0\n",
       "religionew           0\n",
       "scgpuk11c       970754\n",
       "sex                  0\n",
       "student              0\n",
       "tenduk11             0\n",
       "transport      1427207\n",
       "unemphist      1853676\n",
       "yrarr_yearg    2388610\n",
       "dtype: int64"
      ]
     },
     "execution_count": 28,
     "metadata": {},
     "output_type": "execute_result"
    }
   ],
   "source": [
    "df.isna().sum()"
   ]
  },
  {
   "cell_type": "code",
   "execution_count": 29,
   "metadata": {},
   "outputs": [],
   "source": [
    "#I want to reduce the number of age groupings in my age column\n",
    "def make_age_groups(x): \n",
    "    if x <=4:\n",
    "        return 1 #ages 0 - 19\n",
    "    elif x <= 8: \n",
    "        return 2 #ages 20-39\n",
    "    elif x <= 12: \n",
    "        return 3 #ages 40 - 59\n",
    "    elif x <=16:\n",
    "        return 4 #ages 60 - 79\n",
    "    else: \n",
    "        return 5 #and above"
   ]
  },
  {
   "cell_type": "code",
   "execution_count": 30,
   "metadata": {},
   "outputs": [],
   "source": [
    "df.ageh = df.ageh.map(make_age_groups)"
   ]
  },
  {
   "cell_type": "code",
   "execution_count": 31,
   "metadata": {},
   "outputs": [],
   "source": [
    "#As a final cleaning step, I'll replace the np.nan values with -9, indicating NA\n",
    "#These columns with NAs will all become dummified\n",
    "\n",
    "df.fillna(-9, inplace = True)"
   ]
  },
  {
   "cell_type": "markdown",
   "metadata": {},
   "source": [
    "I am happy that this dataset is now clean for EDA, so I'll save this version to a new file. "
   ]
  },
  {
   "cell_type": "code",
   "execution_count": 32,
   "metadata": {},
   "outputs": [],
   "source": [
    "df.to_csv('datasets/clean_data/microdata.csv', index=False)"
   ]
  },
  {
   "cell_type": "code",
   "execution_count": null,
   "metadata": {},
   "outputs": [],
   "source": [
    "#START A NEW NOTEBOOK HERE? "
   ]
  },
  {
   "cell_type": "markdown",
   "metadata": {},
   "source": [
    "### 2. Performing EDA"
   ]
  },
  {
   "cell_type": "code",
   "execution_count": 312,
   "metadata": {},
   "outputs": [],
   "source": [
    "df = pd.read_csv('datasets/clean_data/microdata.csv')"
   ]
  },
  {
   "cell_type": "code",
   "execution_count": 314,
   "metadata": {},
   "outputs": [
    {
     "data": {
      "text/html": [
       "<div>\n",
       "<style scoped>\n",
       "    .dataframe tbody tr th:only-of-type {\n",
       "        vertical-align: middle;\n",
       "    }\n",
       "\n",
       "    .dataframe tbody tr th {\n",
       "        vertical-align: top;\n",
       "    }\n",
       "\n",
       "    .dataframe thead th {\n",
       "        text-align: right;\n",
       "    }\n",
       "</style>\n",
       "<table border=\"1\" class=\"dataframe\">\n",
       "  <thead>\n",
       "    <tr style=\"text-align: right;\">\n",
       "      <th></th>\n",
       "      <th>country</th>\n",
       "      <th>region</th>\n",
       "      <th>la_group</th>\n",
       "      <th>ageh</th>\n",
       "      <th>ahchuk11</th>\n",
       "      <th>carer</th>\n",
       "      <th>carsnoc</th>\n",
       "      <th>cenheat</th>\n",
       "      <th>cobg</th>\n",
       "      <th>depemhuk11</th>\n",
       "      <th>...</th>\n",
       "      <th>marstat</th>\n",
       "      <th>pproomhuk11</th>\n",
       "      <th>religionew</th>\n",
       "      <th>scgpuk11c</th>\n",
       "      <th>sex</th>\n",
       "      <th>student</th>\n",
       "      <th>tenduk11</th>\n",
       "      <th>transport</th>\n",
       "      <th>unemphist</th>\n",
       "      <th>yrarr_yearg</th>\n",
       "    </tr>\n",
       "  </thead>\n",
       "  <tbody>\n",
       "    <tr>\n",
       "      <th>0</th>\n",
       "      <td>1</td>\n",
       "      <td>1</td>\n",
       "      <td>1</td>\n",
       "      <td>1</td>\n",
       "      <td>8.0</td>\n",
       "      <td>1.0</td>\n",
       "      <td>0.0</td>\n",
       "      <td>2.0</td>\n",
       "      <td>1.0</td>\n",
       "      <td>0.0</td>\n",
       "      <td>...</td>\n",
       "      <td>1</td>\n",
       "      <td>2.0</td>\n",
       "      <td>1.0</td>\n",
       "      <td>-9.0</td>\n",
       "      <td>2</td>\n",
       "      <td>1</td>\n",
       "      <td>1.0</td>\n",
       "      <td>-9.0</td>\n",
       "      <td>-9.0</td>\n",
       "      <td>-9.0</td>\n",
       "    </tr>\n",
       "    <tr>\n",
       "      <th>1</th>\n",
       "      <td>1</td>\n",
       "      <td>1</td>\n",
       "      <td>1</td>\n",
       "      <td>4</td>\n",
       "      <td>5.0</td>\n",
       "      <td>1.0</td>\n",
       "      <td>1.0</td>\n",
       "      <td>2.0</td>\n",
       "      <td>1.0</td>\n",
       "      <td>0.0</td>\n",
       "      <td>...</td>\n",
       "      <td>2</td>\n",
       "      <td>1.0</td>\n",
       "      <td>2.0</td>\n",
       "      <td>-9.0</td>\n",
       "      <td>2</td>\n",
       "      <td>2</td>\n",
       "      <td>0.0</td>\n",
       "      <td>-9.0</td>\n",
       "      <td>12.0</td>\n",
       "      <td>-9.0</td>\n",
       "    </tr>\n",
       "  </tbody>\n",
       "</table>\n",
       "<p>2 rows × 34 columns</p>\n",
       "</div>"
      ],
      "text/plain": [
       "   country  region  la_group  ageh  ahchuk11  carer  carsnoc  cenheat  cobg  \\\n",
       "0        1       1         1     1       8.0    1.0      0.0      2.0   1.0   \n",
       "1        1       1         1     4       5.0    1.0      1.0      2.0   1.0   \n",
       "\n",
       "   depemhuk11  ...  marstat  pproomhuk11  religionew  scgpuk11c  sex  student  \\\n",
       "0         0.0  ...        1          2.0         1.0       -9.0    2        1   \n",
       "1         0.0  ...        2          1.0         2.0       -9.0    2        2   \n",
       "\n",
       "   tenduk11  transport  unemphist  yrarr_yearg  \n",
       "0       1.0       -9.0       -9.0         -9.0  \n",
       "1       0.0       -9.0       12.0         -9.0  \n",
       "\n",
       "[2 rows x 34 columns]"
      ]
     },
     "execution_count": 314,
     "metadata": {},
     "output_type": "execute_result"
    }
   ],
   "source": [
    "df.head(2)"
   ]
  },
  {
   "cell_type": "code",
   "execution_count": 325,
   "metadata": {},
   "outputs": [
    {
     "data": {
      "text/html": [
       "<div>\n",
       "<style scoped>\n",
       "    .dataframe tbody tr th:only-of-type {\n",
       "        vertical-align: middle;\n",
       "    }\n",
       "\n",
       "    .dataframe tbody tr th {\n",
       "        vertical-align: top;\n",
       "    }\n",
       "\n",
       "    .dataframe thead th {\n",
       "        text-align: right;\n",
       "    }\n",
       "</style>\n",
       "<table border=\"1\" class=\"dataframe\">\n",
       "  <thead>\n",
       "    <tr style=\"text-align: right;\">\n",
       "      <th></th>\n",
       "      <th>country</th>\n",
       "      <th>region</th>\n",
       "      <th>la_group</th>\n",
       "      <th>ageh</th>\n",
       "      <th>ahchuk11</th>\n",
       "      <th>carer</th>\n",
       "      <th>carsnoc</th>\n",
       "      <th>cenheat</th>\n",
       "      <th>cobg</th>\n",
       "      <th>depemhuk11</th>\n",
       "      <th>...</th>\n",
       "      <th>marstat</th>\n",
       "      <th>pproomhuk11</th>\n",
       "      <th>religionew</th>\n",
       "      <th>scgpuk11c</th>\n",
       "      <th>sex</th>\n",
       "      <th>student</th>\n",
       "      <th>tenduk11</th>\n",
       "      <th>transport</th>\n",
       "      <th>unemphist</th>\n",
       "      <th>yrarr_yearg</th>\n",
       "    </tr>\n",
       "  </thead>\n",
       "  <tbody>\n",
       "    <tr>\n",
       "      <th>count</th>\n",
       "      <td>2.753482e+06</td>\n",
       "      <td>2.753482e+06</td>\n",
       "      <td>2.753482e+06</td>\n",
       "      <td>2.753482e+06</td>\n",
       "      <td>2.753482e+06</td>\n",
       "      <td>2.753482e+06</td>\n",
       "      <td>2.753482e+06</td>\n",
       "      <td>2.753482e+06</td>\n",
       "      <td>2.753482e+06</td>\n",
       "      <td>2.753482e+06</td>\n",
       "      <td>...</td>\n",
       "      <td>2.753482e+06</td>\n",
       "      <td>2.753482e+06</td>\n",
       "      <td>2.753482e+06</td>\n",
       "      <td>2.753482e+06</td>\n",
       "      <td>2.753482e+06</td>\n",
       "      <td>2.753482e+06</td>\n",
       "      <td>2.753482e+06</td>\n",
       "      <td>2.753482e+06</td>\n",
       "      <td>2.753482e+06</td>\n",
       "      <td>2.753482e+06</td>\n",
       "    </tr>\n",
       "    <tr>\n",
       "      <th>mean</th>\n",
       "      <td>1.054679e+00</td>\n",
       "      <td>5.675483e+00</td>\n",
       "      <td>1.424158e+02</td>\n",
       "      <td>2.528846e+00</td>\n",
       "      <td>6.553801e+00</td>\n",
       "      <td>1.167760e+00</td>\n",
       "      <td>1.362096e+00</td>\n",
       "      <td>2.438825e+00</td>\n",
       "      <td>2.316551e+00</td>\n",
       "      <td>1.483551e-01</td>\n",
       "      <td>...</td>\n",
       "      <td>2.012843e+00</td>\n",
       "      <td>1.514464e+00</td>\n",
       "      <td>2.553478e+00</td>\n",
       "      <td>-1.558912e+00</td>\n",
       "      <td>1.507871e+00</td>\n",
       "      <td>1.790757e+00</td>\n",
       "      <td>1.937773e+00</td>\n",
       "      <td>-1.541524e+00</td>\n",
       "      <td>-3.086560e+00</td>\n",
       "      <td>-6.833668e+00</td>\n",
       "    </tr>\n",
       "    <tr>\n",
       "      <th>std</th>\n",
       "      <td>2.273522e-01</td>\n",
       "      <td>2.610779e+00</td>\n",
       "      <td>7.765678e+01</td>\n",
       "      <td>1.148425e+00</td>\n",
       "      <td>2.622963e+00</td>\n",
       "      <td>5.611368e-01</td>\n",
       "      <td>9.789739e-01</td>\n",
       "      <td>1.232424e+00</td>\n",
       "      <td>3.025649e+00</td>\n",
       "      <td>3.554517e-01</td>\n",
       "      <td>...</td>\n",
       "      <td>1.439424e+00</td>\n",
       "      <td>6.184975e-01</td>\n",
       "      <td>2.160355e+00</td>\n",
       "      <td>5.561405e+00</td>\n",
       "      <td>4.999381e-01</td>\n",
       "      <td>4.067686e-01</td>\n",
       "      <td>2.019943e+00</td>\n",
       "      <td>7.902759e+00</td>\n",
       "      <td>8.818572e+00</td>\n",
       "      <td>5.613011e+00</td>\n",
       "    </tr>\n",
       "    <tr>\n",
       "      <th>min</th>\n",
       "      <td>1.000000e+00</td>\n",
       "      <td>1.000000e+00</td>\n",
       "      <td>1.000000e+00</td>\n",
       "      <td>1.000000e+00</td>\n",
       "      <td>1.000000e+00</td>\n",
       "      <td>1.000000e+00</td>\n",
       "      <td>0.000000e+00</td>\n",
       "      <td>1.000000e+00</td>\n",
       "      <td>1.000000e+00</td>\n",
       "      <td>0.000000e+00</td>\n",
       "      <td>...</td>\n",
       "      <td>1.000000e+00</td>\n",
       "      <td>1.000000e+00</td>\n",
       "      <td>1.000000e+00</td>\n",
       "      <td>-9.000000e+00</td>\n",
       "      <td>1.000000e+00</td>\n",
       "      <td>1.000000e+00</td>\n",
       "      <td>0.000000e+00</td>\n",
       "      <td>-9.000000e+00</td>\n",
       "      <td>-9.000000e+00</td>\n",
       "      <td>-9.000000e+00</td>\n",
       "    </tr>\n",
       "    <tr>\n",
       "      <th>25%</th>\n",
       "      <td>1.000000e+00</td>\n",
       "      <td>3.000000e+00</td>\n",
       "      <td>7.400000e+01</td>\n",
       "      <td>2.000000e+00</td>\n",
       "      <td>5.000000e+00</td>\n",
       "      <td>1.000000e+00</td>\n",
       "      <td>1.000000e+00</td>\n",
       "      <td>2.000000e+00</td>\n",
       "      <td>1.000000e+00</td>\n",
       "      <td>0.000000e+00</td>\n",
       "      <td>...</td>\n",
       "      <td>1.000000e+00</td>\n",
       "      <td>1.000000e+00</td>\n",
       "      <td>1.000000e+00</td>\n",
       "      <td>-9.000000e+00</td>\n",
       "      <td>1.000000e+00</td>\n",
       "      <td>2.000000e+00</td>\n",
       "      <td>0.000000e+00</td>\n",
       "      <td>-9.000000e+00</td>\n",
       "      <td>-9.000000e+00</td>\n",
       "      <td>-9.000000e+00</td>\n",
       "    </tr>\n",
       "    <tr>\n",
       "      <th>50%</th>\n",
       "      <td>1.000000e+00</td>\n",
       "      <td>6.000000e+00</td>\n",
       "      <td>1.530000e+02</td>\n",
       "      <td>2.000000e+00</td>\n",
       "      <td>7.000000e+00</td>\n",
       "      <td>1.000000e+00</td>\n",
       "      <td>1.000000e+00</td>\n",
       "      <td>2.000000e+00</td>\n",
       "      <td>1.000000e+00</td>\n",
       "      <td>0.000000e+00</td>\n",
       "      <td>...</td>\n",
       "      <td>2.000000e+00</td>\n",
       "      <td>1.000000e+00</td>\n",
       "      <td>2.000000e+00</td>\n",
       "      <td>2.000000e+00</td>\n",
       "      <td>2.000000e+00</td>\n",
       "      <td>2.000000e+00</td>\n",
       "      <td>1.000000e+00</td>\n",
       "      <td>-9.000000e+00</td>\n",
       "      <td>-9.000000e+00</td>\n",
       "      <td>-9.000000e+00</td>\n",
       "    </tr>\n",
       "    <tr>\n",
       "      <th>75%</th>\n",
       "      <td>1.000000e+00</td>\n",
       "      <td>8.000000e+00</td>\n",
       "      <td>2.110000e+02</td>\n",
       "      <td>3.000000e+00</td>\n",
       "      <td>9.000000e+00</td>\n",
       "      <td>1.000000e+00</td>\n",
       "      <td>2.000000e+00</td>\n",
       "      <td>2.000000e+00</td>\n",
       "      <td>1.000000e+00</td>\n",
       "      <td>0.000000e+00</td>\n",
       "      <td>...</td>\n",
       "      <td>2.000000e+00</td>\n",
       "      <td>2.000000e+00</td>\n",
       "      <td>2.000000e+00</td>\n",
       "      <td>3.000000e+00</td>\n",
       "      <td>2.000000e+00</td>\n",
       "      <td>2.000000e+00</td>\n",
       "      <td>4.000000e+00</td>\n",
       "      <td>7.000000e+00</td>\n",
       "      <td>4.000000e+00</td>\n",
       "      <td>-9.000000e+00</td>\n",
       "    </tr>\n",
       "    <tr>\n",
       "      <th>max</th>\n",
       "      <td>2.000000e+00</td>\n",
       "      <td>1.000000e+01</td>\n",
       "      <td>2.650000e+02</td>\n",
       "      <td>5.000000e+00</td>\n",
       "      <td>1.000000e+01</td>\n",
       "      <td>4.000000e+00</td>\n",
       "      <td>4.000000e+00</td>\n",
       "      <td>7.000000e+00</td>\n",
       "      <td>1.300000e+01</td>\n",
       "      <td>1.000000e+00</td>\n",
       "      <td>...</td>\n",
       "      <td>6.000000e+00</td>\n",
       "      <td>4.000000e+00</td>\n",
       "      <td>9.000000e+00</td>\n",
       "      <td>4.000000e+00</td>\n",
       "      <td>2.000000e+00</td>\n",
       "      <td>2.000000e+00</td>\n",
       "      <td>9.000000e+00</td>\n",
       "      <td>1.100000e+01</td>\n",
       "      <td>1.300000e+01</td>\n",
       "      <td>1.100000e+01</td>\n",
       "    </tr>\n",
       "  </tbody>\n",
       "</table>\n",
       "<p>8 rows × 34 columns</p>\n",
       "</div>"
      ],
      "text/plain": [
       "            country        region      la_group          ageh      ahchuk11  \\\n",
       "count  2.753482e+06  2.753482e+06  2.753482e+06  2.753482e+06  2.753482e+06   \n",
       "mean   1.054679e+00  5.675483e+00  1.424158e+02  2.528846e+00  6.553801e+00   \n",
       "std    2.273522e-01  2.610779e+00  7.765678e+01  1.148425e+00  2.622963e+00   \n",
       "min    1.000000e+00  1.000000e+00  1.000000e+00  1.000000e+00  1.000000e+00   \n",
       "25%    1.000000e+00  3.000000e+00  7.400000e+01  2.000000e+00  5.000000e+00   \n",
       "50%    1.000000e+00  6.000000e+00  1.530000e+02  2.000000e+00  7.000000e+00   \n",
       "75%    1.000000e+00  8.000000e+00  2.110000e+02  3.000000e+00  9.000000e+00   \n",
       "max    2.000000e+00  1.000000e+01  2.650000e+02  5.000000e+00  1.000000e+01   \n",
       "\n",
       "              carer       carsnoc       cenheat          cobg    depemhuk11  \\\n",
       "count  2.753482e+06  2.753482e+06  2.753482e+06  2.753482e+06  2.753482e+06   \n",
       "mean   1.167760e+00  1.362096e+00  2.438825e+00  2.316551e+00  1.483551e-01   \n",
       "std    5.611368e-01  9.789739e-01  1.232424e+00  3.025649e+00  3.554517e-01   \n",
       "min    1.000000e+00  0.000000e+00  1.000000e+00  1.000000e+00  0.000000e+00   \n",
       "25%    1.000000e+00  1.000000e+00  2.000000e+00  1.000000e+00  0.000000e+00   \n",
       "50%    1.000000e+00  1.000000e+00  2.000000e+00  1.000000e+00  0.000000e+00   \n",
       "75%    1.000000e+00  2.000000e+00  2.000000e+00  1.000000e+00  0.000000e+00   \n",
       "max    4.000000e+00  4.000000e+00  7.000000e+00  1.300000e+01  1.000000e+00   \n",
       "\n",
       "       ...       marstat   pproomhuk11    religionew     scgpuk11c  \\\n",
       "count  ...  2.753482e+06  2.753482e+06  2.753482e+06  2.753482e+06   \n",
       "mean   ...  2.012843e+00  1.514464e+00  2.553478e+00 -1.558912e+00   \n",
       "std    ...  1.439424e+00  6.184975e-01  2.160355e+00  5.561405e+00   \n",
       "min    ...  1.000000e+00  1.000000e+00  1.000000e+00 -9.000000e+00   \n",
       "25%    ...  1.000000e+00  1.000000e+00  1.000000e+00 -9.000000e+00   \n",
       "50%    ...  2.000000e+00  1.000000e+00  2.000000e+00  2.000000e+00   \n",
       "75%    ...  2.000000e+00  2.000000e+00  2.000000e+00  3.000000e+00   \n",
       "max    ...  6.000000e+00  4.000000e+00  9.000000e+00  4.000000e+00   \n",
       "\n",
       "                sex       student      tenduk11     transport     unemphist  \\\n",
       "count  2.753482e+06  2.753482e+06  2.753482e+06  2.753482e+06  2.753482e+06   \n",
       "mean   1.507871e+00  1.790757e+00  1.937773e+00 -1.541524e+00 -3.086560e+00   \n",
       "std    4.999381e-01  4.067686e-01  2.019943e+00  7.902759e+00  8.818572e+00   \n",
       "min    1.000000e+00  1.000000e+00  0.000000e+00 -9.000000e+00 -9.000000e+00   \n",
       "25%    1.000000e+00  2.000000e+00  0.000000e+00 -9.000000e+00 -9.000000e+00   \n",
       "50%    2.000000e+00  2.000000e+00  1.000000e+00 -9.000000e+00 -9.000000e+00   \n",
       "75%    2.000000e+00  2.000000e+00  4.000000e+00  7.000000e+00  4.000000e+00   \n",
       "max    2.000000e+00  2.000000e+00  9.000000e+00  1.100000e+01  1.300000e+01   \n",
       "\n",
       "        yrarr_yearg  \n",
       "count  2.753482e+06  \n",
       "mean  -6.833668e+00  \n",
       "std    5.613011e+00  \n",
       "min   -9.000000e+00  \n",
       "25%   -9.000000e+00  \n",
       "50%   -9.000000e+00  \n",
       "75%   -9.000000e+00  \n",
       "max    1.100000e+01  \n",
       "\n",
       "[8 rows x 34 columns]"
      ]
     },
     "execution_count": 325,
     "metadata": {},
     "output_type": "execute_result"
    }
   ],
   "source": [
    "df.describe()"
   ]
  },
  {
   "cell_type": "code",
   "execution_count": 337,
   "metadata": {},
   "outputs": [
    {
     "data": {
      "image/png": "[encoded data removed]",
      "text/plain": [
       "<Figure size 576x576 with 2 Axes>"
      ]
     },
     "metadata": {
      "image/png": {
       "height": 506,
       "width": 563
      },
      "needs_background": "light"
     },
     "output_type": "display_data"
    }
   ],
   "source": [
    "fig, ax = plt.subplots(figsize=(8, 8))\n",
    "\n",
    "mask = np.zeros_like(df.corr())\n",
    "mask[np.triu_indices_from(mask)] = True\n",
    "with sns.axes_style(\"white\"):\n",
    "    ax = sns.heatmap(df.corr(), mask=mask, vmax=.3, square=True, cmap=\"Blues_r\")"
   ]
  },
  {
   "cell_type": "code",
   "execution_count": 349,
   "metadata": {},
   "outputs": [
    {
     "name": "stdout",
     "output_type": "stream",
     "text": [
      "265\n",
      "10\n"
     ]
    }
   ],
   "source": [
    "#As all the data is categorical, I'll group by Local Authority or region to perform most\n",
    "#of the EDA \n",
    "\n",
    "print(len(df.la_group.value_counts())) #265 different local authorities represented. \n",
    "print(len(df.region.value_counts())) #and 10 regions "
   ]
  },
  {
   "cell_type": "code",
   "execution_count": 371,
   "metadata": {},
   "outputs": [
    {
     "data": {
      "text/plain": [
       "1.0    0.474496\n",
       "2.0    0.341378\n",
       "3.0    0.129890\n",
       "4.0    0.042043\n",
       "5.0    0.012193\n",
       "Name: health, dtype: float64"
      ]
     },
     "execution_count": 371,
     "metadata": {},
     "output_type": "execute_result"
    }
   ],
   "source": [
    "#Health will become the target, let's see how it is distributed\n",
    "df.health.value_counts(normalize=True)"
   ]
  },
  {
   "cell_type": "markdown",
   "metadata": {},
   "source": [
    "    Value label information for health\n",
    "\tValue = 1.0\tLabel = Very good health\n",
    "\tValue = 2.0\tLabel = Good health\n",
    "\tValue = 3.0\tLabel = Fair health\n",
    "\tValue = 4.0\tLabel = Bad health\n",
    "\tValue = 5.0\tLabel = Very bad health\n",
    "    Value = -9.0   Label = Not applicable --> already dropped"
   ]
  },
  {
   "cell_type": "code",
   "execution_count": 372,
   "metadata": {},
   "outputs": [
    {
     "data": {
      "text/html": [
       "<div>\n",
       "<style scoped>\n",
       "    .dataframe tbody tr th:only-of-type {\n",
       "        vertical-align: middle;\n",
       "    }\n",
       "\n",
       "    .dataframe tbody tr th {\n",
       "        vertical-align: top;\n",
       "    }\n",
       "\n",
       "    .dataframe thead th {\n",
       "        text-align: right;\n",
       "    }\n",
       "</style>\n",
       "<table border=\"1\" class=\"dataframe\">\n",
       "  <thead>\n",
       "    <tr style=\"text-align: right;\">\n",
       "      <th></th>\n",
       "      <th>health</th>\n",
       "    </tr>\n",
       "    <tr>\n",
       "      <th>la_group</th>\n",
       "      <th></th>\n",
       "    </tr>\n",
       "  </thead>\n",
       "  <tbody>\n",
       "    <tr>\n",
       "      <th>1</th>\n",
       "      <td>1.824376</td>\n",
       "    </tr>\n",
       "    <tr>\n",
       "      <th>2</th>\n",
       "      <td>1.855427</td>\n",
       "    </tr>\n",
       "    <tr>\n",
       "      <th>3</th>\n",
       "      <td>1.885970</td>\n",
       "    </tr>\n",
       "    <tr>\n",
       "      <th>4</th>\n",
       "      <td>1.822635</td>\n",
       "    </tr>\n",
       "    <tr>\n",
       "      <th>5</th>\n",
       "      <td>1.820961</td>\n",
       "    </tr>\n",
       "  </tbody>\n",
       "</table>\n",
       "</div>"
      ],
      "text/plain": [
       "            health\n",
       "la_group          \n",
       "1         1.824376\n",
       "2         1.855427\n",
       "3         1.885970\n",
       "4         1.822635\n",
       "5         1.820961"
      ]
     },
     "execution_count": 372,
     "metadata": {},
     "output_type": "execute_result"
    }
   ],
   "source": [
    "health_LA = df[['la_group', 'health']].groupby(['la_group'])[['health']].mean()\n",
    "health_LA.head()"
   ]
  },
  {
   "cell_type": "code",
   "execution_count": 389,
   "metadata": {},
   "outputs": [],
   "source": [
    "health_region = df[['region', 'health']].groupby(['region'])[['health']].mean()\n",
    "health_region.index = ['North East ', 'North West', 'Yorks and Humber ', 'East Midlands',\n",
    "      'West Midlands', 'East of England ', 'London', 'South East', \n",
    "       'South West', 'Wales']"
   ]
  },
  {
   "cell_type": "code",
   "execution_count": 390,
   "metadata": {},
   "outputs": [
    {
     "data": {
      "text/html": [
       "<div>\n",
       "<style scoped>\n",
       "    .dataframe tbody tr th:only-of-type {\n",
       "        vertical-align: middle;\n",
       "    }\n",
       "\n",
       "    .dataframe tbody tr th {\n",
       "        vertical-align: top;\n",
       "    }\n",
       "\n",
       "    .dataframe thead th {\n",
       "        text-align: right;\n",
       "    }\n",
       "</style>\n",
       "<table border=\"1\" class=\"dataframe\">\n",
       "  <thead>\n",
       "    <tr style=\"text-align: right;\">\n",
       "      <th></th>\n",
       "      <th>health</th>\n",
       "    </tr>\n",
       "  </thead>\n",
       "  <tbody>\n",
       "    <tr>\n",
       "      <th>North East</th>\n",
       "      <td>1.866121</td>\n",
       "    </tr>\n",
       "    <tr>\n",
       "      <th>North West</th>\n",
       "      <td>1.814320</td>\n",
       "    </tr>\n",
       "    <tr>\n",
       "      <th>Yorks and Humber</th>\n",
       "      <td>1.808226</td>\n",
       "    </tr>\n",
       "    <tr>\n",
       "      <th>East Midlands</th>\n",
       "      <td>1.802217</td>\n",
       "    </tr>\n",
       "    <tr>\n",
       "      <th>West Midlands</th>\n",
       "      <td>1.816880</td>\n",
       "    </tr>\n",
       "    <tr>\n",
       "      <th>East of England</th>\n",
       "      <td>1.748798</td>\n",
       "    </tr>\n",
       "    <tr>\n",
       "      <th>London</th>\n",
       "      <td>1.713845</td>\n",
       "    </tr>\n",
       "    <tr>\n",
       "      <th>South East</th>\n",
       "      <td>1.715572</td>\n",
       "    </tr>\n",
       "    <tr>\n",
       "      <th>South West</th>\n",
       "      <td>1.767812</td>\n",
       "    </tr>\n",
       "    <tr>\n",
       "      <th>Wales</th>\n",
       "      <td>1.845726</td>\n",
       "    </tr>\n",
       "  </tbody>\n",
       "</table>\n",
       "</div>"
      ],
      "text/plain": [
       "                     health\n",
       "North East         1.866121\n",
       "North West         1.814320\n",
       "Yorks and Humber   1.808226\n",
       "East Midlands      1.802217\n",
       "West Midlands      1.816880\n",
       "East of England    1.748798\n",
       "London             1.713845\n",
       "South East         1.715572\n",
       "South West         1.767812\n",
       "Wales              1.845726"
      ]
     },
     "execution_count": 390,
     "metadata": {},
     "output_type": "execute_result"
    }
   ],
   "source": [
    "health_region"
   ]
  },
  {
   "cell_type": "markdown",
   "metadata": {},
   "source": [
    "\tValue label information for region\n",
    "\tValue = 1.0\tLabel = North East \n",
    "\tValue = 2.0\tLabel = North West \n",
    "\tValue = 3.0\tLabel = Yorks and Humber \n",
    "\tValue = 4.0\tLabel = East Midlands \n",
    "\tValue = 5.0\tLabel = West Midlands \n",
    "\tValue = 6.0\tLabel = East of England \n",
    "\tValue = 7.0\tLabel = London \n",
    "\tValue = 8.0\tLabel = South East \n",
    "\tValue = 9.0\tLabel = South West \n",
    "\tValue = 10.0\tLabel = Wales"
   ]
  },
  {
   "cell_type": "code",
   "execution_count": 400,
   "metadata": {},
   "outputs": [
    {
     "data": {
      "image/png": "[encoded data removed]",
      "text/plain": [
       "<Figure size 1296x360 with 2 Axes>"
      ]
     },
     "metadata": {
      "image/png": {
       "height": 381,
       "width": 1158
      },
      "needs_background": "light"
     },
     "output_type": "display_data"
    }
   ],
   "source": [
    "fig, ax = plt.subplots(ncols=2, figsize=(18,5))\n",
    "health_LA.hist(column='health', bins=20, ax=ax[0])\n",
    "ax[0].set_title('LA average health distribution')\n",
    "\n",
    "health_region.plot(kind='bar', ax=ax[1], ylim=(1,2))\n",
    "ax[1].set_title('Average health grading per region')\n",
    "ax[1].xaxis.set_tick_params(rotation=45)\n",
    "\n",
    "plt.show()\n",
    "#remember: the lower the better!"
   ]
  },
  {
   "cell_type": "code",
   "execution_count": 324,
   "metadata": {},
   "outputs": [
    {
     "data": {
      "text/html": [
       "<div>\n",
       "<style scoped>\n",
       "    .dataframe tbody tr th:only-of-type {\n",
       "        vertical-align: middle;\n",
       "    }\n",
       "\n",
       "    .dataframe tbody tr th {\n",
       "        vertical-align: top;\n",
       "    }\n",
       "\n",
       "    .dataframe thead th {\n",
       "        text-align: right;\n",
       "    }\n",
       "</style>\n",
       "<table border=\"1\" class=\"dataframe\">\n",
       "  <thead>\n",
       "    <tr style=\"text-align: right;\">\n",
       "      <th></th>\n",
       "      <th>code</th>\n",
       "      <th>local_authority</th>\n",
       "    </tr>\n",
       "  </thead>\n",
       "  <tbody>\n",
       "    <tr>\n",
       "      <th>0</th>\n",
       "      <td>1</td>\n",
       "      <td>Hartlepool and Stockton-on-Tees</td>\n",
       "    </tr>\n",
       "    <tr>\n",
       "      <th>1</th>\n",
       "      <td>2</td>\n",
       "      <td>Middlesbrough</td>\n",
       "    </tr>\n",
       "    <tr>\n",
       "      <th>2</th>\n",
       "      <td>3</td>\n",
       "      <td>Redcar and Cleveland</td>\n",
       "    </tr>\n",
       "    <tr>\n",
       "      <th>3</th>\n",
       "      <td>4</td>\n",
       "      <td>Chester-le-Street and Durham</td>\n",
       "    </tr>\n",
       "    <tr>\n",
       "      <th>4</th>\n",
       "      <td>5</td>\n",
       "      <td>Darlington and Teesdale</td>\n",
       "    </tr>\n",
       "  </tbody>\n",
       "</table>\n",
       "</div>"
      ],
      "text/plain": [
       "   code                  local_authority\n",
       "0     1  Hartlepool and Stockton-on-Tees\n",
       "1     2                    Middlesbrough\n",
       "2     3             Redcar and Cleveland\n",
       "3     4     Chester-le-Street and Durham\n",
       "4     5          Darlington and Teesdale"
      ]
     },
     "execution_count": 324,
     "metadata": {},
     "output_type": "execute_result"
    }
   ],
   "source": [
    "local_auths = pd.read_csv('local_authority_codes.csv')\n",
    "local_auths.head()"
   ]
  },
  {
   "cell_type": "code",
   "execution_count": 228,
   "metadata": {},
   "outputs": [],
   "source": []
  },
  {
   "cell_type": "code",
   "execution_count": 229,
   "metadata": {},
   "outputs": [],
   "source": [
    "y = df.pop('health')"
   ]
  },
  {
   "cell_type": "code",
   "execution_count": 230,
   "metadata": {},
   "outputs": [
    {
     "data": {
      "text/plain": [
       "1.0    0.474496\n",
       "2.0    0.341378\n",
       "3.0    0.129890\n",
       "4.0    0.042043\n",
       "5.0    0.012193\n",
       "Name: health, dtype: float64"
      ]
     },
     "execution_count": 230,
     "metadata": {},
     "output_type": "execute_result"
    }
   ],
   "source": [
    "y.value_counts(normalize=True)"
   ]
  },
  {
   "cell_type": "code",
   "execution_count": 231,
   "metadata": {},
   "outputs": [],
   "source": [
    "#let's add bad and very bad health together, \n",
    "# And do the same for Very good, good"
   ]
  },
  {
   "cell_type": "code",
   "execution_count": 232,
   "metadata": {},
   "outputs": [],
   "source": [
    "y = y.map(lambda x: 4 if x == 5 else x)"
   ]
  },
  {
   "cell_type": "code",
   "execution_count": 233,
   "metadata": {},
   "outputs": [],
   "source": [
    "y = y.map(lambda x: 1 if x == 2 else x)"
   ]
  },
  {
   "cell_type": "code",
   "execution_count": 234,
   "metadata": {},
   "outputs": [],
   "source": [
    "y = y.map(lambda x: 2 if x == 3 else x)"
   ]
  },
  {
   "cell_type": "code",
   "execution_count": 235,
   "metadata": {},
   "outputs": [],
   "source": [
    "y = y.map(lambda x: 3 if x == 4 else x)"
   ]
  },
  {
   "cell_type": "code",
   "execution_count": 236,
   "metadata": {},
   "outputs": [
    {
     "data": {
      "text/plain": [
       "1.0    0.815873\n",
       "2.0    0.129890\n",
       "3.0    0.054236\n",
       "Name: health, dtype: float64"
      ]
     },
     "execution_count": 236,
     "metadata": {},
     "output_type": "execute_result"
    }
   ],
   "source": [
    "y.value_counts(normalize=True)"
   ]
  },
  {
   "cell_type": "code",
   "execution_count": 89,
   "metadata": {},
   "outputs": [],
   "source": [
    "#These classes are now: (1) Good health, (2) Fair Health, (3) Bad health "
   ]
  },
  {
   "cell_type": "code",
   "execution_count": 237,
   "metadata": {},
   "outputs": [
    {
     "data": {
      "text/plain": [
       "Index(['country', 'region', 'la_group', 'ageh', 'ahchuk11', 'carer', 'carsnoc',\n",
       "       'cenheat', 'cobg', 'depemhuk11', 'dephshuk11', 'dpcfamuk11', 'ecopuk11',\n",
       "       'ethnicityew', 'everwork', 'fmspuk11', 'hhldlang11', 'hlqupuk11',\n",
       "       'hours', 'housecarer', 'identityg', 'langprf', 'mainglangg', 'marstat',\n",
       "       'pproomhuk11', 'religionew', 'scgpuk11c', 'sex', 'student', 'tenduk11',\n",
       "       'transport', 'unemphist', 'yrarr_yearg'],\n",
       "      dtype='object')"
      ]
     },
     "execution_count": 237,
     "metadata": {},
     "output_type": "execute_result"
    }
   ],
   "source": [
    "df.columns"
   ]
  },
  {
   "cell_type": "markdown",
   "metadata": {},
   "source": [
    "Although most variables are categorical, there are some that are on a numeric scale:"
   ]
  },
  {
   "cell_type": "code",
   "execution_count": 317,
   "metadata": {},
   "outputs": [
    {
     "data": {
      "text/plain": [
       "0.0    2170178\n",
       "1.0     392015\n",
       "2.0     191289\n",
       "Name: housecarer, dtype: int64"
      ]
     },
     "execution_count": 317,
     "metadata": {},
     "output_type": "execute_result"
    }
   ],
   "source": [
    "df.housecarer.value_counts() #will keep this numeric, as it is a scale"
   ]
  },
  {
   "cell_type": "code",
   "execution_count": 318,
   "metadata": {},
   "outputs": [
    {
     "data": {
      "text/plain": [
       "1.0    1074356\n",
       "2.0     846921\n",
       "0.0     532976\n",
       "3.0     214606\n",
       "4.0      84623\n",
       "Name: carsnoc, dtype: int64"
      ]
     },
     "execution_count": 318,
     "metadata": {},
     "output_type": "execute_result"
    }
   ],
   "source": [
    "df.carsnoc.value_counts() #will keep this numeric, as it is a scale"
   ]
  },
  {
   "cell_type": "code",
   "execution_count": null,
   "metadata": {},
   "outputs": [],
   "source": []
  },
  {
   "cell_type": "code",
   "execution_count": 238,
   "metadata": {},
   "outputs": [],
   "source": [
    "df_geo = df[['country', 'region', 'la_group']]"
   ]
  },
  {
   "cell_type": "code",
   "execution_count": 239,
   "metadata": {},
   "outputs": [
    {
     "data": {
      "text/html": [
       "<div>\n",
       "<style scoped>\n",
       "    .dataframe tbody tr th:only-of-type {\n",
       "        vertical-align: middle;\n",
       "    }\n",
       "\n",
       "    .dataframe tbody tr th {\n",
       "        vertical-align: top;\n",
       "    }\n",
       "\n",
       "    .dataframe thead th {\n",
       "        text-align: right;\n",
       "    }\n",
       "</style>\n",
       "<table border=\"1\" class=\"dataframe\">\n",
       "  <thead>\n",
       "    <tr style=\"text-align: right;\">\n",
       "      <th></th>\n",
       "      <th>country</th>\n",
       "      <th>region</th>\n",
       "      <th>la_group</th>\n",
       "    </tr>\n",
       "  </thead>\n",
       "  <tbody>\n",
       "    <tr>\n",
       "      <th>0</th>\n",
       "      <td>1</td>\n",
       "      <td>1</td>\n",
       "      <td>1</td>\n",
       "    </tr>\n",
       "    <tr>\n",
       "      <th>1</th>\n",
       "      <td>1</td>\n",
       "      <td>1</td>\n",
       "      <td>1</td>\n",
       "    </tr>\n",
       "  </tbody>\n",
       "</table>\n",
       "</div>"
      ],
      "text/plain": [
       "   country  region  la_group\n",
       "0        1       1         1\n",
       "1        1       1         1"
      ]
     },
     "execution_count": 239,
     "metadata": {},
     "output_type": "execute_result"
    }
   ],
   "source": [
    "df_geo.head(2)"
   ]
  },
  {
   "cell_type": "code",
   "execution_count": 240,
   "metadata": {},
   "outputs": [],
   "source": [
    "df.drop(columns=['country', 'region', 'la_group'], inplace=True)"
   ]
  },
  {
   "cell_type": "code",
   "execution_count": 242,
   "metadata": {},
   "outputs": [],
   "source": [
    "columns = list(df.columns) #choosing all the columns to convert into dummy variables "
   ]
  },
  {
   "cell_type": "code",
   "execution_count": 246,
   "metadata": {},
   "outputs": [],
   "source": [
    "#get rid of 'housecarer', 'carsnoc', as they can be scales \n",
    "rubbish = columns.remove('housecarer')\n",
    "rubbish = columns.remove('carsnoc')"
   ]
  },
  {
   "cell_type": "code",
   "execution_count": 247,
   "metadata": {},
   "outputs": [],
   "source": [
    "X = pd.get_dummies(df, columns = columns, drop_first=True)"
   ]
  },
  {
   "cell_type": "code",
   "execution_count": 248,
   "metadata": {},
   "outputs": [
    {
     "data": {
      "text/html": [
       "<div>\n",
       "<style scoped>\n",
       "    .dataframe tbody tr th:only-of-type {\n",
       "        vertical-align: middle;\n",
       "    }\n",
       "\n",
       "    .dataframe tbody tr th {\n",
       "        vertical-align: top;\n",
       "    }\n",
       "\n",
       "    .dataframe thead th {\n",
       "        text-align: right;\n",
       "    }\n",
       "</style>\n",
       "<table border=\"1\" class=\"dataframe\">\n",
       "  <thead>\n",
       "    <tr style=\"text-align: right;\">\n",
       "      <th></th>\n",
       "      <th>carsnoc</th>\n",
       "      <th>housecarer</th>\n",
       "      <th>ageh_2</th>\n",
       "      <th>ahchuk11_2.0</th>\n",
       "      <th>ahchuk11_3.0</th>\n",
       "      <th>ahchuk11_4.0</th>\n",
       "      <th>ahchuk11_5.0</th>\n",
       "      <th>ahchuk11_6.0</th>\n",
       "      <th>ahchuk11_7.0</th>\n",
       "      <th>ahchuk11_8.0</th>\n",
       "      <th>...</th>\n",
       "      <th>yrarr_yearg_2.0</th>\n",
       "      <th>yrarr_yearg_3.0</th>\n",
       "      <th>yrarr_yearg_4.0</th>\n",
       "      <th>yrarr_yearg_5.0</th>\n",
       "      <th>yrarr_yearg_6.0</th>\n",
       "      <th>yrarr_yearg_7.0</th>\n",
       "      <th>yrarr_yearg_8.0</th>\n",
       "      <th>yrarr_yearg_9.0</th>\n",
       "      <th>yrarr_yearg_10.0</th>\n",
       "      <th>yrarr_yearg_11.0</th>\n",
       "    </tr>\n",
       "  </thead>\n",
       "  <tbody>\n",
       "    <tr>\n",
       "      <th>0</th>\n",
       "      <td>0.0</td>\n",
       "      <td>0.0</td>\n",
       "      <td>0</td>\n",
       "      <td>0</td>\n",
       "      <td>0</td>\n",
       "      <td>0</td>\n",
       "      <td>0</td>\n",
       "      <td>0</td>\n",
       "      <td>0</td>\n",
       "      <td>1</td>\n",
       "      <td>...</td>\n",
       "      <td>0</td>\n",
       "      <td>0</td>\n",
       "      <td>0</td>\n",
       "      <td>0</td>\n",
       "      <td>0</td>\n",
       "      <td>0</td>\n",
       "      <td>0</td>\n",
       "      <td>0</td>\n",
       "      <td>0</td>\n",
       "      <td>0</td>\n",
       "    </tr>\n",
       "    <tr>\n",
       "      <th>1</th>\n",
       "      <td>1.0</td>\n",
       "      <td>1.0</td>\n",
       "      <td>0</td>\n",
       "      <td>0</td>\n",
       "      <td>0</td>\n",
       "      <td>0</td>\n",
       "      <td>1</td>\n",
       "      <td>0</td>\n",
       "      <td>0</td>\n",
       "      <td>0</td>\n",
       "      <td>...</td>\n",
       "      <td>0</td>\n",
       "      <td>0</td>\n",
       "      <td>0</td>\n",
       "      <td>0</td>\n",
       "      <td>0</td>\n",
       "      <td>0</td>\n",
       "      <td>0</td>\n",
       "      <td>0</td>\n",
       "      <td>0</td>\n",
       "      <td>0</td>\n",
       "    </tr>\n",
       "    <tr>\n",
       "      <th>2</th>\n",
       "      <td>1.0</td>\n",
       "      <td>0.0</td>\n",
       "      <td>0</td>\n",
       "      <td>1</td>\n",
       "      <td>0</td>\n",
       "      <td>0</td>\n",
       "      <td>0</td>\n",
       "      <td>0</td>\n",
       "      <td>0</td>\n",
       "      <td>0</td>\n",
       "      <td>...</td>\n",
       "      <td>0</td>\n",
       "      <td>0</td>\n",
       "      <td>0</td>\n",
       "      <td>0</td>\n",
       "      <td>0</td>\n",
       "      <td>0</td>\n",
       "      <td>0</td>\n",
       "      <td>0</td>\n",
       "      <td>0</td>\n",
       "      <td>0</td>\n",
       "    </tr>\n",
       "    <tr>\n",
       "      <th>3</th>\n",
       "      <td>1.0</td>\n",
       "      <td>0.0</td>\n",
       "      <td>0</td>\n",
       "      <td>1</td>\n",
       "      <td>0</td>\n",
       "      <td>0</td>\n",
       "      <td>0</td>\n",
       "      <td>0</td>\n",
       "      <td>0</td>\n",
       "      <td>0</td>\n",
       "      <td>...</td>\n",
       "      <td>0</td>\n",
       "      <td>0</td>\n",
       "      <td>0</td>\n",
       "      <td>0</td>\n",
       "      <td>0</td>\n",
       "      <td>0</td>\n",
       "      <td>0</td>\n",
       "      <td>0</td>\n",
       "      <td>0</td>\n",
       "      <td>0</td>\n",
       "    </tr>\n",
       "    <tr>\n",
       "      <th>4</th>\n",
       "      <td>0.0</td>\n",
       "      <td>0.0</td>\n",
       "      <td>0</td>\n",
       "      <td>0</td>\n",
       "      <td>0</td>\n",
       "      <td>0</td>\n",
       "      <td>0</td>\n",
       "      <td>0</td>\n",
       "      <td>0</td>\n",
       "      <td>0</td>\n",
       "      <td>...</td>\n",
       "      <td>0</td>\n",
       "      <td>0</td>\n",
       "      <td>0</td>\n",
       "      <td>0</td>\n",
       "      <td>0</td>\n",
       "      <td>0</td>\n",
       "      <td>0</td>\n",
       "      <td>0</td>\n",
       "      <td>0</td>\n",
       "      <td>0</td>\n",
       "    </tr>\n",
       "  </tbody>\n",
       "</table>\n",
       "<p>5 rows × 177 columns</p>\n",
       "</div>"
      ],
      "text/plain": [
       "   carsnoc  housecarer  ageh_2  ahchuk11_2.0  ahchuk11_3.0  ahchuk11_4.0  \\\n",
       "0      0.0         0.0       0             0             0             0   \n",
       "1      1.0         1.0       0             0             0             0   \n",
       "2      1.0         0.0       0             1             0             0   \n",
       "3      1.0         0.0       0             1             0             0   \n",
       "4      0.0         0.0       0             0             0             0   \n",
       "\n",
       "   ahchuk11_5.0  ahchuk11_6.0  ahchuk11_7.0  ahchuk11_8.0  ...  \\\n",
       "0             0             0             0             1  ...   \n",
       "1             1             0             0             0  ...   \n",
       "2             0             0             0             0  ...   \n",
       "3             0             0             0             0  ...   \n",
       "4             0             0             0             0  ...   \n",
       "\n",
       "   yrarr_yearg_2.0  yrarr_yearg_3.0  yrarr_yearg_4.0  yrarr_yearg_5.0  \\\n",
       "0                0                0                0                0   \n",
       "1                0                0                0                0   \n",
       "2                0                0                0                0   \n",
       "3                0                0                0                0   \n",
       "4                0                0                0                0   \n",
       "\n",
       "   yrarr_yearg_6.0  yrarr_yearg_7.0  yrarr_yearg_8.0  yrarr_yearg_9.0  \\\n",
       "0                0                0                0                0   \n",
       "1                0                0                0                0   \n",
       "2                0                0                0                0   \n",
       "3                0                0                0                0   \n",
       "4                0                0                0                0   \n",
       "\n",
       "   yrarr_yearg_10.0  yrarr_yearg_11.0  \n",
       "0                 0                 0  \n",
       "1                 0                 0  \n",
       "2                 0                 0  \n",
       "3                 0                 0  \n",
       "4                 0                 0  \n",
       "\n",
       "[5 rows x 177 columns]"
      ]
     },
     "execution_count": 248,
     "metadata": {},
     "output_type": "execute_result"
    }
   ],
   "source": [
    "X.head()"
   ]
  },
  {
   "cell_type": "code",
   "execution_count": 249,
   "metadata": {},
   "outputs": [],
   "source": [
    "X_20000 = X.iloc[:20000,:]\n",
    "y_20000 = y[:20000]"
   ]
  },
  {
   "cell_type": "code",
   "execution_count": 250,
   "metadata": {},
   "outputs": [
    {
     "data": {
      "text/plain": [
       "(20000, 177)"
      ]
     },
     "execution_count": 250,
     "metadata": {},
     "output_type": "execute_result"
    }
   ],
   "source": [
    "X_20000.shape"
   ]
  },
  {
   "cell_type": "code",
   "execution_count": 251,
   "metadata": {},
   "outputs": [],
   "source": []
  },
  {
   "cell_type": "code",
   "execution_count": 252,
   "metadata": {},
   "outputs": [],
   "source": [
    "X_train, X_test, y_train, y_test = train_test_split(X_20000, y_20000, test_size=0.3, \n",
    "                                                    shuffle=True)\n",
    "\n"
   ]
  },
  {
   "cell_type": "code",
   "execution_count": 253,
   "metadata": {},
   "outputs": [
    {
     "name": "stdout",
     "output_type": "stream",
     "text": [
      "(14000, 177)\n",
      "(14000,)\n"
     ]
    }
   ],
   "source": [
    "print(X_train.shape)\n",
    "print(y_train.shape)"
   ]
  },
  {
   "cell_type": "code",
   "execution_count": 255,
   "metadata": {},
   "outputs": [],
   "source": [
    "scaler = StandardScaler()"
   ]
  },
  {
   "cell_type": "code",
   "execution_count": 256,
   "metadata": {},
   "outputs": [
    {
     "name": "stderr",
     "output_type": "stream",
     "text": [
      "/anaconda3/lib/python3.6/site-packages/sklearn/preprocessing/data.py:625: DataConversionWarning: Data with input dtype uint8, float64 were all converted to float64 by StandardScaler.\n",
      "  return self.partial_fit(X, y)\n",
      "/anaconda3/lib/python3.6/site-packages/sklearn/base.py:462: DataConversionWarning: Data with input dtype uint8, float64 were all converted to float64 by StandardScaler.\n",
      "  return self.fit(X, **fit_params).transform(X)\n"
     ]
    }
   ],
   "source": [
    "X_train = pd.DataFrame(scaler.fit_transform(X_train), columns=X_train.columns)"
   ]
  },
  {
   "cell_type": "code",
   "execution_count": 257,
   "metadata": {},
   "outputs": [
    {
     "name": "stderr",
     "output_type": "stream",
     "text": [
      "/anaconda3/lib/python3.6/site-packages/ipykernel_launcher.py:1: DataConversionWarning: Data with input dtype uint8, float64 were all converted to float64 by StandardScaler.\n",
      "  \"\"\"Entry point for launching an IPython kernel.\n"
     ]
    }
   ],
   "source": [
    "X_test = pd.DataFrame(scaler.transform(X_test), columns=X_test.columns)"
   ]
  },
  {
   "cell_type": "code",
   "execution_count": 258,
   "metadata": {},
   "outputs": [],
   "source": [
    "model = LogisticRegressionCV(solver='liblinear', n_jobs=2, multi_class='ovr', cv=5)"
   ]
  },
  {
   "cell_type": "code",
   "execution_count": 259,
   "metadata": {},
   "outputs": [
    {
     "data": {
      "text/plain": [
       "LogisticRegressionCV(Cs=10, class_weight=None, cv=5, dual=False,\n",
       "           fit_intercept=True, intercept_scaling=1.0, max_iter=100,\n",
       "           multi_class='ovr', n_jobs=2, penalty='l2', random_state=None,\n",
       "           refit=True, scoring=None, solver='liblinear', tol=0.0001,\n",
       "           verbose=0)"
      ]
     },
     "execution_count": 259,
     "metadata": {},
     "output_type": "execute_result"
    }
   ],
   "source": [
    "model.fit(X_train, y_train)"
   ]
  },
  {
   "cell_type": "code",
   "execution_count": 260,
   "metadata": {},
   "outputs": [
    {
     "data": {
      "text/plain": [
       "0.8265"
      ]
     },
     "execution_count": 260,
     "metadata": {},
     "output_type": "execute_result"
    }
   ],
   "source": [
    "model.score(X_test, y_test)"
   ]
  },
  {
   "cell_type": "code",
   "execution_count": 261,
   "metadata": {},
   "outputs": [],
   "source": [
    "model = LogisticRegression(multi_class='ovr', solver='liblinear')"
   ]
  },
  {
   "cell_type": "code",
   "execution_count": 262,
   "metadata": {},
   "outputs": [],
   "source": [
    "#initially started with a wider range for C, but reduced it after the first fitting\n",
    "model_params = {'penalty': ['l1', 'l2'], \n",
    "                'C': np.linspace(0.01, 5, 30)}"
   ]
  },
  {
   "cell_type": "code",
   "execution_count": 265,
   "metadata": {},
   "outputs": [],
   "source": [
    "gs = GridSearchCV(model, model_params, cv=5, verbose=1, n_jobs=3)"
   ]
  },
  {
   "cell_type": "code",
   "execution_count": 266,
   "metadata": {},
   "outputs": [
    {
     "name": "stdout",
     "output_type": "stream",
     "text": [
      "Fitting 5 folds for each of 60 candidates, totalling 300 fits\n"
     ]
    },
    {
     "name": "stderr",
     "output_type": "stream",
     "text": [
      "[Parallel(n_jobs=3)]: Using backend LokyBackend with 3 concurrent workers.\n",
      "[Parallel(n_jobs=3)]: Done  44 tasks      | elapsed:  1.6min\n",
      "[Parallel(n_jobs=3)]: Done 194 tasks      | elapsed: 15.8min\n",
      "[Parallel(n_jobs=3)]: Done 300 out of 300 | elapsed: 30.9min finished\n"
     ]
    },
    {
     "data": {
      "text/plain": [
       "GridSearchCV(cv=5, error_score='raise-deprecating',\n",
       "       estimator=LogisticRegression(C=1.0, class_weight=None, dual=False, fit_intercept=True,\n",
       "          intercept_scaling=1, max_iter=100, multi_class='ovr',\n",
       "          n_jobs=None, penalty='l2', random_state=None, solver='liblinear',\n",
       "          tol=0.0001, verbose=0, warm_start=False),\n",
       "       fit_params=None, iid='warn', n_jobs=3,\n",
       "       param_grid={'penalty': ['l1', 'l2'], 'C': array([0.01   , 0.18207, 0.35414, 0.52621, 0.69828, 0.87034, 1.04241,\n",
       "       1.21448, 1.38655, 1.55862, 1.73069, 1.90276, 2.07483, 2.2469 ,\n",
       "       2.41897, 2.59103, 2.7631 , 2.93517, 3.10724, 3.27931, 3.45138,\n",
       "       3.62345, 3.79552, 3.96759, 4.13966, 4.31172, 4.48379, 4.65586,\n",
       "       4.82793, 5.     ])},\n",
       "       pre_dispatch='2*n_jobs', refit=True, return_train_score='warn',\n",
       "       scoring=None, verbose=1)"
      ]
     },
     "execution_count": 266,
     "metadata": {},
     "output_type": "execute_result"
    }
   ],
   "source": [
    "gs.fit(X_train, y_train)"
   ]
  },
  {
   "cell_type": "code",
   "execution_count": 267,
   "metadata": {},
   "outputs": [],
   "source": [
    "best_model = gs.best_estimator_"
   ]
  },
  {
   "cell_type": "code",
   "execution_count": 268,
   "metadata": {},
   "outputs": [
    {
     "name": "stdout",
     "output_type": "stream",
     "text": [
      "0.8336428571428571\n",
      "0.8251666666666667\n",
      "{'C': 2.763103448275862, 'penalty': 'l2'}\n"
     ]
    }
   ],
   "source": [
    "print(gs.best_score_ ) #for reference, the baseline is 0.472819\n",
    "print(best_model.score(X_test, y_test))\n",
    "print(gs.best_params_)"
   ]
  },
  {
   "cell_type": "code",
   "execution_count": null,
   "metadata": {},
   "outputs": [],
   "source": []
  },
  {
   "cell_type": "code",
   "execution_count": 269,
   "metadata": {},
   "outputs": [
    {
     "data": {
      "text/plain": [
       "(3, 177)"
      ]
     },
     "execution_count": 269,
     "metadata": {},
     "output_type": "execute_result"
    }
   ],
   "source": [
    "best_model.coef_.shape"
   ]
  },
  {
   "cell_type": "code",
   "execution_count": 270,
   "metadata": {},
   "outputs": [
    {
     "data": {
      "text/plain": [
       "array([1., 2., 3.])"
      ]
     },
     "execution_count": 270,
     "metadata": {},
     "output_type": "execute_result"
    }
   ],
   "source": [
    "best_model.classes_ #This is health from very good to very bad.."
   ]
  },
  {
   "cell_type": "code",
   "execution_count": 271,
   "metadata": {},
   "outputs": [
    {
     "data": {
      "text/html": [
       "<div>\n",
       "<style scoped>\n",
       "    .dataframe tbody tr th:only-of-type {\n",
       "        vertical-align: middle;\n",
       "    }\n",
       "\n",
       "    .dataframe tbody tr th {\n",
       "        vertical-align: top;\n",
       "    }\n",
       "\n",
       "    .dataframe thead th {\n",
       "        text-align: right;\n",
       "    }\n",
       "</style>\n",
       "<table border=\"1\" class=\"dataframe\">\n",
       "  <thead>\n",
       "    <tr style=\"text-align: right;\">\n",
       "      <th></th>\n",
       "      <th>Feature</th>\n",
       "      <th>Coefficient</th>\n",
       "      <th>Abs_Coefficient</th>\n",
       "    </tr>\n",
       "  </thead>\n",
       "  <tbody>\n",
       "    <tr>\n",
       "      <th>1</th>\n",
       "      <td>housecarer</td>\n",
       "      <td>-0.659123</td>\n",
       "      <td>0.659123</td>\n",
       "    </tr>\n",
       "    <tr>\n",
       "      <th>72</th>\n",
       "      <td>fmspuk11_4.0</td>\n",
       "      <td>0.382178</td>\n",
       "      <td>0.382178</td>\n",
       "    </tr>\n",
       "    <tr>\n",
       "      <th>7</th>\n",
       "      <td>ahchuk11_6.0</td>\n",
       "      <td>0.345869</td>\n",
       "      <td>0.345869</td>\n",
       "    </tr>\n",
       "    <tr>\n",
       "      <th>54</th>\n",
       "      <td>ecopuk11_13.0</td>\n",
       "      <td>-0.342939</td>\n",
       "      <td>0.342939</td>\n",
       "    </tr>\n",
       "    <tr>\n",
       "      <th>12</th>\n",
       "      <td>carer_2.0</td>\n",
       "      <td>0.336347</td>\n",
       "      <td>0.336347</td>\n",
       "    </tr>\n",
       "    <tr>\n",
       "      <th>97</th>\n",
       "      <td>identityg_7.0</td>\n",
       "      <td>0.333859</td>\n",
       "      <td>0.333859</td>\n",
       "    </tr>\n",
       "    <tr>\n",
       "      <th>138</th>\n",
       "      <td>tenduk11_6.0</td>\n",
       "      <td>0.264161</td>\n",
       "      <td>0.264161</td>\n",
       "    </tr>\n",
       "    <tr>\n",
       "      <th>9</th>\n",
       "      <td>ahchuk11_8.0</td>\n",
       "      <td>0.261648</td>\n",
       "      <td>0.261648</td>\n",
       "    </tr>\n",
       "    <tr>\n",
       "      <th>73</th>\n",
       "      <td>fmspuk11_5.0</td>\n",
       "      <td>0.255799</td>\n",
       "      <td>0.255799</td>\n",
       "    </tr>\n",
       "    <tr>\n",
       "      <th>75</th>\n",
       "      <td>fmspuk11_7.0</td>\n",
       "      <td>0.243725</td>\n",
       "      <td>0.243725</td>\n",
       "    </tr>\n",
       "  </tbody>\n",
       "</table>\n",
       "</div>"
      ],
      "text/plain": [
       "           Feature  Coefficient  Abs_Coefficient\n",
       "1       housecarer    -0.659123         0.659123\n",
       "72    fmspuk11_4.0     0.382178         0.382178\n",
       "7     ahchuk11_6.0     0.345869         0.345869\n",
       "54   ecopuk11_13.0    -0.342939         0.342939\n",
       "12       carer_2.0     0.336347         0.336347\n",
       "97   identityg_7.0     0.333859         0.333859\n",
       "138   tenduk11_6.0     0.264161         0.264161\n",
       "9     ahchuk11_8.0     0.261648         0.261648\n",
       "73    fmspuk11_5.0     0.255799         0.255799\n",
       "75    fmspuk11_7.0     0.243725         0.243725"
      ]
     },
     "execution_count": 271,
     "metadata": {},
     "output_type": "execute_result"
    }
   ],
   "source": [
    "#These are the features that best help predict class 1 (Good health)\n",
    "pd.DataFrame(list(zip(X_train.columns, best_model.coef_[0], abs(best_model.coef_[0]))), \n",
    "             columns = ['Feature', 'Coefficient', 'Abs_Coefficient']).sort_values(\n",
    "             by='Abs_Coefficient', ascending=False).head(10)"
   ]
  },
  {
   "cell_type": "code",
   "execution_count": 273,
   "metadata": {},
   "outputs": [
    {
     "data": {
      "text/html": [
       "<div>\n",
       "<style scoped>\n",
       "    .dataframe tbody tr th:only-of-type {\n",
       "        vertical-align: middle;\n",
       "    }\n",
       "\n",
       "    .dataframe tbody tr th {\n",
       "        vertical-align: top;\n",
       "    }\n",
       "\n",
       "    .dataframe thead th {\n",
       "        text-align: right;\n",
       "    }\n",
       "</style>\n",
       "<table border=\"1\" class=\"dataframe\">\n",
       "  <thead>\n",
       "    <tr style=\"text-align: right;\">\n",
       "      <th></th>\n",
       "      <th>Feature</th>\n",
       "      <th>Coefficient</th>\n",
       "      <th>Abs_Coefficient</th>\n",
       "    </tr>\n",
       "  </thead>\n",
       "  <tbody>\n",
       "    <tr>\n",
       "      <th>7</th>\n",
       "      <td>ahchuk11_6.0</td>\n",
       "      <td>-0.376949</td>\n",
       "      <td>0.376949</td>\n",
       "    </tr>\n",
       "    <tr>\n",
       "      <th>72</th>\n",
       "      <td>fmspuk11_4.0</td>\n",
       "      <td>-0.340289</td>\n",
       "      <td>0.340289</td>\n",
       "    </tr>\n",
       "    <tr>\n",
       "      <th>9</th>\n",
       "      <td>ahchuk11_8.0</td>\n",
       "      <td>-0.315187</td>\n",
       "      <td>0.315187</td>\n",
       "    </tr>\n",
       "    <tr>\n",
       "      <th>138</th>\n",
       "      <td>tenduk11_6.0</td>\n",
       "      <td>-0.259161</td>\n",
       "      <td>0.259161</td>\n",
       "    </tr>\n",
       "    <tr>\n",
       "      <th>97</th>\n",
       "      <td>identityg_7.0</td>\n",
       "      <td>-0.247032</td>\n",
       "      <td>0.247032</td>\n",
       "    </tr>\n",
       "    <tr>\n",
       "      <th>10</th>\n",
       "      <td>ahchuk11_9.0</td>\n",
       "      <td>-0.241336</td>\n",
       "      <td>0.241336</td>\n",
       "    </tr>\n",
       "    <tr>\n",
       "      <th>8</th>\n",
       "      <td>ahchuk11_7.0</td>\n",
       "      <td>-0.225362</td>\n",
       "      <td>0.225362</td>\n",
       "    </tr>\n",
       "    <tr>\n",
       "      <th>11</th>\n",
       "      <td>ahchuk11_10.0</td>\n",
       "      <td>-0.221026</td>\n",
       "      <td>0.221026</td>\n",
       "    </tr>\n",
       "    <tr>\n",
       "      <th>1</th>\n",
       "      <td>housecarer</td>\n",
       "      <td>0.208357</td>\n",
       "      <td>0.208357</td>\n",
       "    </tr>\n",
       "    <tr>\n",
       "      <th>75</th>\n",
       "      <td>fmspuk11_7.0</td>\n",
       "      <td>-0.201326</td>\n",
       "      <td>0.201326</td>\n",
       "    </tr>\n",
       "  </tbody>\n",
       "</table>\n",
       "</div>"
      ],
      "text/plain": [
       "           Feature  Coefficient  Abs_Coefficient\n",
       "7     ahchuk11_6.0    -0.376949         0.376949\n",
       "72    fmspuk11_4.0    -0.340289         0.340289\n",
       "9     ahchuk11_8.0    -0.315187         0.315187\n",
       "138   tenduk11_6.0    -0.259161         0.259161\n",
       "97   identityg_7.0    -0.247032         0.247032\n",
       "10    ahchuk11_9.0    -0.241336         0.241336\n",
       "8     ahchuk11_7.0    -0.225362         0.225362\n",
       "11   ahchuk11_10.0    -0.221026         0.221026\n",
       "1       housecarer     0.208357         0.208357\n",
       "75    fmspuk11_7.0    -0.201326         0.201326"
      ]
     },
     "execution_count": 273,
     "metadata": {},
     "output_type": "execute_result"
    }
   ],
   "source": [
    "#These are the features that best help predict class 2 (Fair health)\n",
    "pd.DataFrame(list(zip(X_train.columns, best_model.coef_[1], abs(best_model.coef_[1]))), \n",
    "             columns = ['Feature', 'Coefficient', 'Abs_Coefficient']).sort_values(\n",
    "             by='Abs_Coefficient', ascending=False).head(10)"
   ]
  },
  {
   "cell_type": "code",
   "execution_count": 272,
   "metadata": {},
   "outputs": [
    {
     "data": {
      "text/html": [
       "<div>\n",
       "<style scoped>\n",
       "    .dataframe tbody tr th:only-of-type {\n",
       "        vertical-align: middle;\n",
       "    }\n",
       "\n",
       "    .dataframe tbody tr th {\n",
       "        vertical-align: top;\n",
       "    }\n",
       "\n",
       "    .dataframe thead th {\n",
       "        text-align: right;\n",
       "    }\n",
       "</style>\n",
       "<table border=\"1\" class=\"dataframe\">\n",
       "  <thead>\n",
       "    <tr style=\"text-align: right;\">\n",
       "      <th></th>\n",
       "      <th>Feature</th>\n",
       "      <th>Coefficient</th>\n",
       "      <th>Abs_Coefficient</th>\n",
       "    </tr>\n",
       "  </thead>\n",
       "  <tbody>\n",
       "    <tr>\n",
       "      <th>1</th>\n",
       "      <td>housecarer</td>\n",
       "      <td>1.021789</td>\n",
       "      <td>1.021789</td>\n",
       "    </tr>\n",
       "    <tr>\n",
       "      <th>94</th>\n",
       "      <td>identityg_4.0</td>\n",
       "      <td>-0.738041</td>\n",
       "      <td>0.738041</td>\n",
       "    </tr>\n",
       "    <tr>\n",
       "      <th>12</th>\n",
       "      <td>carer_2.0</td>\n",
       "      <td>-0.684974</td>\n",
       "      <td>0.684974</td>\n",
       "    </tr>\n",
       "    <tr>\n",
       "      <th>51</th>\n",
       "      <td>ecopuk11_10.0</td>\n",
       "      <td>0.504376</td>\n",
       "      <td>0.504376</td>\n",
       "    </tr>\n",
       "    <tr>\n",
       "      <th>132</th>\n",
       "      <td>student_2</td>\n",
       "      <td>-0.483445</td>\n",
       "      <td>0.483445</td>\n",
       "    </tr>\n",
       "    <tr>\n",
       "      <th>54</th>\n",
       "      <td>ecopuk11_13.0</td>\n",
       "      <td>0.451435</td>\n",
       "      <td>0.451435</td>\n",
       "    </tr>\n",
       "    <tr>\n",
       "      <th>153</th>\n",
       "      <td>unemphist_1.0</td>\n",
       "      <td>-0.413792</td>\n",
       "      <td>0.413792</td>\n",
       "    </tr>\n",
       "    <tr>\n",
       "      <th>43</th>\n",
       "      <td>ecopuk11_2.0</td>\n",
       "      <td>0.384218</td>\n",
       "      <td>0.384218</td>\n",
       "    </tr>\n",
       "    <tr>\n",
       "      <th>7</th>\n",
       "      <td>ahchuk11_6.0</td>\n",
       "      <td>-0.382849</td>\n",
       "      <td>0.382849</td>\n",
       "    </tr>\n",
       "    <tr>\n",
       "      <th>93</th>\n",
       "      <td>identityg_3.0</td>\n",
       "      <td>-0.367590</td>\n",
       "      <td>0.367590</td>\n",
       "    </tr>\n",
       "  </tbody>\n",
       "</table>\n",
       "</div>"
      ],
      "text/plain": [
       "           Feature  Coefficient  Abs_Coefficient\n",
       "1       housecarer     1.021789         1.021789\n",
       "94   identityg_4.0    -0.738041         0.738041\n",
       "12       carer_2.0    -0.684974         0.684974\n",
       "51   ecopuk11_10.0     0.504376         0.504376\n",
       "132      student_2    -0.483445         0.483445\n",
       "54   ecopuk11_13.0     0.451435         0.451435\n",
       "153  unemphist_1.0    -0.413792         0.413792\n",
       "43    ecopuk11_2.0     0.384218         0.384218\n",
       "7     ahchuk11_6.0    -0.382849         0.382849\n",
       "93   identityg_3.0    -0.367590         0.367590"
      ]
     },
     "execution_count": 272,
     "metadata": {},
     "output_type": "execute_result"
    }
   ],
   "source": [
    "#These are the features that best help predict class 3 (Bad health)\n",
    "pd.DataFrame(list(zip(X_train.columns, best_model.coef_[2], abs(best_model.coef_[2]))), \n",
    "             columns = ['Feature', 'Coefficient', 'Abs_Coefficient']).sort_values(\n",
    "             by='Abs_Coefficient', ascending=False).head(10)"
   ]
  },
  {
   "cell_type": "code",
   "execution_count": 274,
   "metadata": {},
   "outputs": [],
   "source": [
    "predictions = best_model.predict(X_test)"
   ]
  },
  {
   "cell_type": "code",
   "execution_count": 275,
   "metadata": {},
   "outputs": [],
   "source": []
  },
  {
   "cell_type": "code",
   "execution_count": 276,
   "metadata": {},
   "outputs": [
    {
     "data": {
      "text/html": [
       "<div>\n",
       "<style scoped>\n",
       "    .dataframe tbody tr th:only-of-type {\n",
       "        vertical-align: middle;\n",
       "    }\n",
       "\n",
       "    .dataframe tbody tr th {\n",
       "        vertical-align: top;\n",
       "    }\n",
       "\n",
       "    .dataframe thead th {\n",
       "        text-align: right;\n",
       "    }\n",
       "</style>\n",
       "<table border=\"1\" class=\"dataframe\">\n",
       "  <thead>\n",
       "    <tr style=\"text-align: right;\">\n",
       "      <th></th>\n",
       "      <th>Good</th>\n",
       "      <th>Fair</th>\n",
       "      <th>Bad</th>\n",
       "    </tr>\n",
       "  </thead>\n",
       "  <tbody>\n",
       "    <tr>\n",
       "      <th>Good</th>\n",
       "      <td>4672</td>\n",
       "      <td>114</td>\n",
       "      <td>29</td>\n",
       "    </tr>\n",
       "    <tr>\n",
       "      <th>Fair</th>\n",
       "      <td>580</td>\n",
       "      <td>167</td>\n",
       "      <td>56</td>\n",
       "    </tr>\n",
       "    <tr>\n",
       "      <th>Bad</th>\n",
       "      <td>162</td>\n",
       "      <td>108</td>\n",
       "      <td>112</td>\n",
       "    </tr>\n",
       "  </tbody>\n",
       "</table>\n",
       "</div>"
      ],
      "text/plain": [
       "      Good  Fair  Bad\n",
       "Good  4672   114   29\n",
       "Fair   580   167   56\n",
       "Bad    162   108  112"
      ]
     },
     "execution_count": 276,
     "metadata": {},
     "output_type": "execute_result"
    }
   ],
   "source": [
    "pd.DataFrame(confusion_matrix(y_test, predictions, labels=[1,2,3]), \n",
    "            columns=['Good', 'Fair', 'Bad'], \n",
    "            index=['Good', 'Fair', 'Bad'])"
   ]
  },
  {
   "cell_type": "code",
   "execution_count": null,
   "metadata": {},
   "outputs": [],
   "source": [
    "#For my model, I'd like to increase the number of correct predictions made for Bad health "
   ]
  },
  {
   "cell_type": "code",
   "execution_count": null,
   "metadata": {},
   "outputs": [],
   "source": []
  },
  {
   "cell_type": "code",
   "execution_count": 70,
   "metadata": {},
   "outputs": [],
   "source": [
    "#and for interest, trying a KNN and SVM \n"
   ]
  },
  {
   "cell_type": "code",
   "execution_count": 71,
   "metadata": {},
   "outputs": [],
   "source": [
    "knn = KNeighborsClassifier()"
   ]
  },
  {
   "cell_type": "code",
   "execution_count": 72,
   "metadata": {},
   "outputs": [
    {
     "data": {
      "text/plain": [
       "KNeighborsClassifier(algorithm='auto', leaf_size=30, metric='minkowski',\n",
       "           metric_params=None, n_jobs=None, n_neighbors=5, p=2,\n",
       "           weights='uniform')"
      ]
     },
     "execution_count": 72,
     "metadata": {},
     "output_type": "execute_result"
    }
   ],
   "source": [
    "knn.fit(X_train, y_train)"
   ]
  },
  {
   "cell_type": "code",
   "execution_count": 73,
   "metadata": {},
   "outputs": [
    {
     "data": {
      "text/plain": [
       "0.5677777777777778"
      ]
     },
     "execution_count": 73,
     "metadata": {},
     "output_type": "execute_result"
    }
   ],
   "source": [
    "knn.score(X_test, y_test)"
   ]
  },
  {
   "cell_type": "code",
   "execution_count": 74,
   "metadata": {},
   "outputs": [],
   "source": [
    "clf = SVC()"
   ]
  },
  {
   "cell_type": "code",
   "execution_count": 75,
   "metadata": {},
   "outputs": [
    {
     "name": "stderr",
     "output_type": "stream",
     "text": [
      "/anaconda3/lib/python3.6/site-packages/sklearn/svm/base.py:196: FutureWarning: The default value of gamma will change from 'auto' to 'scale' in version 0.22 to account better for unscaled features. Set gamma explicitly to 'auto' or 'scale' to avoid this warning.\n",
      "  \"avoid this warning.\", FutureWarning)\n"
     ]
    },
    {
     "data": {
      "text/plain": [
       "SVC(C=1.0, cache_size=200, class_weight=None, coef0=0.0,\n",
       "  decision_function_shape='ovr', degree=3, gamma='auto_deprecated',\n",
       "  kernel='rbf', max_iter=-1, probability=False, random_state=None,\n",
       "  shrinking=True, tol=0.001, verbose=False)"
      ]
     },
     "execution_count": 75,
     "metadata": {},
     "output_type": "execute_result"
    }
   ],
   "source": [
    "clf.fit(np.array(X_train), y_train)"
   ]
  },
  {
   "cell_type": "code",
   "execution_count": 76,
   "metadata": {},
   "outputs": [
    {
     "data": {
      "text/plain": [
       "0.5927777777777777"
      ]
     },
     "execution_count": 76,
     "metadata": {},
     "output_type": "execute_result"
    }
   ],
   "source": [
    "clf.score(X_test, y_test)"
   ]
  },
  {
   "cell_type": "code",
   "execution_count": null,
   "metadata": {},
   "outputs": [],
   "source": [
    "# Look into Likert scale. \n",
    "# Perhaps try linear regression on the scale from 1 - 5"
   ]
  },
  {
   "cell_type": "code",
   "execution_count": null,
   "metadata": {},
   "outputs": [],
   "source": [
    "#Next steps - try to do some oversampling for imbalanced classes. "
   ]
  }
 ],
 "metadata": {
  "kernelspec": {
   "display_name": "Python 3",
   "language": "python",
   "name": "python3"
  },
  "language_info": {
   "codemirror_mode": {
    "name": "ipython",
    "version": 3
   },
   "file_extension": ".py",
   "mimetype": "text/x-python",
   "name": "python",
   "nbconvert_exporter": "python",
   "pygments_lexer": "ipython3",
   "version": "3.6.8"
  }
 },
 "nbformat": 4,
 "nbformat_minor": 2
}
